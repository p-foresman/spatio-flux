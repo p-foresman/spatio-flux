{
 "cells": [
  {
   "cell_type": "code",
   "id": "initial_id",
   "metadata": {
    "collapsed": true,
    "ExecuteTime": {
     "end_time": "2025-04-16T15:08:35.301750Z",
     "start_time": "2025-04-16T15:08:35.299018Z"
    }
   },
   "source": [
    "import numpy as np\n",
    "from vivarium import Vivarium\n",
    "from spatio_flux import PROCESS_DICT, TYPES_DICT, build_path, render_path"
   ],
   "outputs": [],
   "execution_count": 21
  },
  {
   "metadata": {
    "ExecuteTime": {
     "end_time": "2025-04-16T15:08:35.326127Z",
     "start_time": "2025-04-16T15:08:35.315047Z"
    }
   },
   "cell_type": "code",
   "source": [
    "# TODO -- make a spatio-flux specific Vivarium with the the core preloaded\n",
    "v = Vivarium(processes=PROCESS_DICT, types=TYPES_DICT)"
   ],
   "id": "66f96b03df1eb3b0",
   "outputs": [],
   "execution_count": 22
  },
  {
   "metadata": {
    "ExecuteTime": {
     "end_time": "2025-04-16T15:08:35.331709Z",
     "start_time": "2025-04-16T15:08:35.329266Z"
    }
   },
   "cell_type": "code",
   "source": "v.get_types()",
   "id": "6da148ba9e2bba1f",
   "outputs": [
    {
     "data": {
      "text/plain": [
       "['',\n",
       " 'protocol',\n",
       " 'length^2',\n",
       " 'length/time',\n",
       " 'length^4*mass/current*time^3',\n",
       " 'kinetics',\n",
       " 'time/length',\n",
       " 'length/mass',\n",
       " 'length/time^2',\n",
       " 'length^2*mass/temperature*time^2',\n",
       " 'float',\n",
       " 'wires',\n",
       " 'length^2*mass/time',\n",
       " 'maybe',\n",
       " 'mass/length*time',\n",
       " 'substrate_role',\n",
       " 'substance/length^3',\n",
       " 'bounds',\n",
       " 'temperature',\n",
       " 'string',\n",
       " 'length^2*mass/current*time^2',\n",
       " 'edge',\n",
       " 'map',\n",
       " 'length^2*mass/substance*temperature*time^2',\n",
       " 'length^0_5*mass^0_5/time',\n",
       " 'luminosity',\n",
       " 'list',\n",
       " 'printing_unit',\n",
       " '/temperature*time',\n",
       " 'union',\n",
       " 'length^3/mass*time^2',\n",
       " 'any',\n",
       " 'length^2*mass/current*time^3',\n",
       " 'process',\n",
       " 'mass^0_5/length^0_5*time',\n",
       " 'substance/time',\n",
       " 'time^2/length',\n",
       " 'positive_float',\n",
       " '/time',\n",
       " 'luminosity/length^2',\n",
       " 'tuple',\n",
       " 'length*time/mass',\n",
       " 'current*length*time',\n",
       " 'length*mass/current*time^3',\n",
       " 'current^2*time^4/length^3*mass',\n",
       " 'length',\n",
       " 'current^2*time^4/length^2*mass',\n",
       " 'current^2*time^3/length^2*mass',\n",
       " 'mass/time^3',\n",
       " 'mass^0_5/length^1_5',\n",
       " 'length^3*mass/current^2*time^4',\n",
       " 'interval',\n",
       " 'substance',\n",
       " 'printing_unit/length',\n",
       " 'current',\n",
       " 'length^0_5*mass^0_5',\n",
       " 'length^1_5*mass^0_5/time',\n",
       " 'current*time/mass',\n",
       " 'composite',\n",
       " 'current*time^2/length^2*mass',\n",
       " 'step',\n",
       " 'time',\n",
       " 'mass/time^2',\n",
       " 'enum',\n",
       " 'length^3',\n",
       " '/substance',\n",
       " 'path',\n",
       " 'quote',\n",
       " 'length*mass/current^2*time^2',\n",
       " 'mass',\n",
       " 'length^2*mass/time^3',\n",
       " 'length^2*mass/current^2*time^2',\n",
       " 'tree',\n",
       " 'length^2*mass/current^2*time^3',\n",
       " 'current*time/substance',\n",
       " 'length^2/time^2',\n",
       " 'emitter_mode',\n",
       " 'integer',\n",
       " 'length*mass/time^2',\n",
       " 'particle',\n",
       " 'mass/length^3',\n",
       " '/length',\n",
       " 'length*temperature',\n",
       " 'current*length^2*time',\n",
       " 'length^4*mass/time^3',\n",
       " 'number',\n",
       " 'length^2/time',\n",
       " 'mass/current*time^2',\n",
       " 'mass/temperature^4*time^3',\n",
       " 'mass/length*time^2',\n",
       " 'current*time',\n",
       " 'length^3/time',\n",
       " 'reaction',\n",
       " 'array',\n",
       " 'boundary_side',\n",
       " 'length^1_5*mass^0_5/time^2',\n",
       " 'length^2*mass/time^2',\n",
       " 'schema',\n",
       " 'mass/length',\n",
       " 'current*length^2',\n",
       " '/printing_unit',\n",
       " 'boolean']"
      ]
     },
     "execution_count": 23,
     "metadata": {},
     "output_type": "execute_result"
    }
   ],
   "execution_count": 23
  },
  {
   "metadata": {
    "ExecuteTime": {
     "end_time": "2025-04-16T15:08:35.342237Z",
     "start_time": "2025-04-16T15:08:35.340082Z"
    }
   },
   "cell_type": "code",
   "source": [
    "# view the available processes\n",
    "v.get_processes()"
   ],
   "id": "aaa56a31b99950ad",
   "outputs": [
    {
     "data": {
      "text/plain": [
       "['MinimalParticle',\n",
       " 'DynamicFBA',\n",
       " 'DiffusionAdvection',\n",
       " 'json-emitter',\n",
       " 'console-emitter',\n",
       " 'Particles',\n",
       " 'composite',\n",
       " 'ram-emitter']"
      ]
     },
     "execution_count": 24,
     "metadata": {},
     "output_type": "execute_result"
    }
   ],
   "execution_count": 24
  },
  {
   "metadata": {},
   "cell_type": "markdown",
   "source": "## dFBA alone",
   "id": "9cb058a2cfce5404"
  },
  {
   "metadata": {
    "ExecuteTime": {
     "end_time": "2025-04-16T15:08:35.353592Z",
     "start_time": "2025-04-16T15:08:35.351792Z"
    }
   },
   "cell_type": "code",
   "source": [
    "# inspect the config schema for the 'increase' process\n",
    "v.process_config('DynamicFBA')"
   ],
   "id": "3b09457fe1bd1693",
   "outputs": [
    {
     "data": {
      "text/plain": [
       "{'model_file': 'string',\n",
       " 'kinetic_params': 'map[tuple[float,float]]',\n",
       " 'substrate_update_reactions': 'map[string]',\n",
       " 'biomass_identifier': 'string',\n",
       " 'bounds': 'map[bounds]'}"
      ]
     },
     "execution_count": 25,
     "metadata": {},
     "output_type": "execute_result"
    }
   ],
   "execution_count": 25
  },
  {
   "metadata": {
    "ExecuteTime": {
     "end_time": "2025-04-16T15:08:35.365502Z",
     "start_time": "2025-04-16T15:08:35.363792Z"
    }
   },
   "cell_type": "code",
   "source": "dfba_config  = v.process_config('DynamicFBA', dataclass=True)  # TODO -- make this work",
   "id": "ca0e984e7a4c6551",
   "outputs": [
    {
     "name": "stdout",
     "output_type": "stream",
     "text": [
      "Error finding process DynamicFBA: 'type_parameters'\n"
     ]
    }
   ],
   "execution_count": 26
  },
  {
   "metadata": {
    "ExecuteTime": {
     "end_time": "2025-04-16T15:08:35.377696Z",
     "start_time": "2025-04-16T15:08:35.375982Z"
    }
   },
   "cell_type": "code",
   "source": [
    "# TODO - enable get_dataclass to work with the new process\n",
    "# dfba_config  = v.get_dataclass('DynamicFBA')\n",
    "dfba_config = {\n",
    "    \"model_file\": \"textbook\",\n",
    "    \"kinetic_params\": {\n",
    "        \"glucose\": (0.5, 1),\n",
    "        \"acetate\": (0.5, 2)},\n",
    "    \"substrate_update_reactions\": {\n",
    "        \"glucose\": \"EX_glc__D_e\",\n",
    "        \"acetate\": \"EX_ac_e\"},\n",
    "    \"biomass_identifier\": \"biomass\",\n",
    "    \"bounds\": {\n",
    "        \"EX_o2_e\": {\"lower\": -2, \"upper\": None},\n",
    "        \"ATPM\": {\"lower\": 1, \"upper\": 1}\n",
    "    }\n",
    "}"
   ],
   "id": "22e0d7390501d00f",
   "outputs": [],
   "execution_count": 27
  },
  {
   "metadata": {
    "ExecuteTime": {
     "end_time": "2025-04-16T15:08:35.451552Z",
     "start_time": "2025-04-16T15:08:35.389164Z"
    }
   },
   "cell_type": "code",
   "source": [
    "# add a dynamic FBA process called 'dFBA'\n",
    "v.add_process(name=\"dFBA\",\n",
    "              process_id=\"DynamicFBA\",\n",
    "              config=dfba_config,\n",
    "              )\n",
    "v.diagram(dpi='70')"
   ],
   "id": "25737cdd3ed3d5d2",
   "outputs": [
    {
     "data": {
      "image/svg+xml": "<?xml version=\"1.0\" encoding=\"UTF-8\" standalone=\"no\"?>\n<!DOCTYPE svg PUBLIC \"-//W3C//DTD SVG 1.1//EN\"\n \"http://www.w3.org/Graphics/SVG/1.1/DTD/svg11.dtd\">\n<!-- Generated by graphviz version 9.0.0 (0)\n -->\n<!-- Title: bigraph Pages: 1 -->\n<svg width=\"194pt\" height=\"162pt\"\n viewBox=\"0.00 0.00 199.58 166.28\" xmlns=\"http://www.w3.org/2000/svg\" xmlns:xlink=\"http://www.w3.org/1999/xlink\">\n<g id=\"graph0\" class=\"graph\" transform=\"scale(0.972222 0.972222) rotate(0) translate(4 162.28)\">\n<title>bigraph</title>\n<polygon fill=\"white\" stroke=\"none\" points=\"-4,4 -4,-162.28 195.58,-162.28 195.58,4 -4,4\"/>\n<!-- (&#39;global_time&#39;,) -->\n<g id=\"node1\" class=\"node\">\n<title>(&#39;global_time&#39;,)</title>\n<ellipse fill=\"none\" stroke=\"black\" stroke-width=\"2\" cx=\"38.14\" cy=\"-120.14\" rx=\"38.14\" ry=\"38.14\"/>\n<text text-anchor=\"start\" x=\"9.48\" y=\"-116.54\" font-family=\"Times,serif\" font-size=\"12.00\">global_time</text>\n</g>\n<!-- (&#39;dFBA&#39;,) -->\n<g id=\"node2\" class=\"node\">\n<title>(&#39;dFBA&#39;,)</title>\n<polygon fill=\"none\" stroke=\"black\" stroke-width=\"2\" points=\"166.14,-36 112.14,-36 112.14,0 166.14,0 166.14,-36\"/>\n<text text-anchor=\"start\" x=\"124.47\" y=\"-14.4\" font-family=\"Times,serif\" font-size=\"12.00\">dFBA</text>\n</g>\n<!-- (&#39;dFBA&#39;, &#39;s&#39;, &#39;u&#39;, &#39;b&#39;, &#39;s&#39;, &#39;t&#39;, &#39;r&#39;, &#39;a&#39;, &#39;t&#39;, &#39;e&#39;, &#39;s&#39;)_input -->\n<!-- (&#39;dFBA&#39;, &#39;s&#39;, &#39;u&#39;, &#39;b&#39;, &#39;s&#39;, &#39;t&#39;, &#39;r&#39;, &#39;a&#39;, &#39;t&#39;, &#39;e&#39;, &#39;s&#39;)_input&#45;&gt;(&#39;dFBA&#39;,) -->\n<g id=\"edge1\" class=\"edge\">\n<title>(&#39;dFBA&#39;, &#39;s&#39;, &#39;u&#39;, &#39;b&#39;, &#39;s&#39;, &#39;t&#39;, &#39;r&#39;, &#39;a&#39;, &#39;t&#39;, &#39;e&#39;, &#39;s&#39;)_input&#45;&gt;(&#39;dFBA&#39;,)</title>\n<path fill=\"none\" stroke=\"black\" stroke-dasharray=\"5,2\" d=\"M105.68,-106.17C103.71,-92.67 102.21,-71.13 108.7,-54 109.72,-51.3 111.06,-48.67 112.6,-46.14\"/>\n<polygon fill=\"black\" stroke=\"black\" points=\"115.33,-48.33 118.42,-38.19 109.68,-44.19 115.33,-48.33\"/>\n<text text-anchor=\"start\" x=\"108.14\" y=\"-56\" font-family=\"Times,serif\" font-size=\"10.00\">substrates</text>\n</g>\n<!-- (&#39;dFBA&#39;, &#39;s&#39;, &#39;u&#39;, &#39;b&#39;, &#39;s&#39;, &#39;t&#39;, &#39;r&#39;, &#39;a&#39;, &#39;t&#39;, &#39;e&#39;, &#39;s&#39;)_output -->\n<!-- (&#39;dFBA&#39;, &#39;s&#39;, &#39;u&#39;, &#39;b&#39;, &#39;s&#39;, &#39;t&#39;, &#39;r&#39;, &#39;a&#39;, &#39;t&#39;, &#39;e&#39;, &#39;s&#39;)_output&#45;&gt;(&#39;dFBA&#39;,) -->\n<g id=\"edge2\" class=\"edge\">\n<title>(&#39;dFBA&#39;, &#39;s&#39;, &#39;u&#39;, &#39;b&#39;, &#39;s&#39;, &#39;t&#39;, &#39;r&#39;, &#39;a&#39;, &#39;t&#39;, &#39;e&#39;, &#39;s&#39;)_output&#45;&gt;(&#39;dFBA&#39;,)</title>\n<path fill=\"none\" stroke=\"black\" stroke-dasharray=\"5,2\" d=\"M162.82,-95.49C157.27,-77.58 149.77,-53.34 144.71,-36.99\"/>\n<polygon fill=\"black\" stroke=\"black\" points=\"159.46,-96.49 165.76,-105.01 166.15,-94.42 159.46,-96.49\"/>\n<text text-anchor=\"start\" x=\"152.14\" y=\"-56\" font-family=\"Times,serif\" font-size=\"10.00\">substrates</text>\n</g>\n</g>\n</svg>\n",
      "text/plain": [
       "<graphviz.graphs.Digraph at 0x128efc0d0>"
      ]
     },
     "execution_count": 28,
     "metadata": {},
     "output_type": "execute_result"
    }
   ],
   "execution_count": 28
  },
  {
   "metadata": {
    "ExecuteTime": {
     "end_time": "2025-04-16T15:08:35.487034Z",
     "start_time": "2025-04-16T15:08:35.457617Z"
    }
   },
   "cell_type": "code",
   "source": [
    "mol_ids = [\"glucose\", \"acetate\", \"biomass\"]\n",
    "path=[\"fields\"]\n",
    "\n",
    "for mol_id in mol_ids:\n",
    "    v.add_object(\n",
    "        name=mol_id,\n",
    "        path=path,\n",
    "        value=np.random.rand()\n",
    "    )\n",
    "\n",
    "v.connect_process(\n",
    "    process_name=\"dFBA\",\n",
    "    inputs={\n",
    "            \"substrates\": {\n",
    "                mol_id: build_path(path, mol_id)\n",
    "                for mol_id in mol_ids}\n",
    "        },\n",
    "    outputs={\n",
    "            \"substrates\": {\n",
    "                mol_id: build_path(path, mol_id)\n",
    "                for mol_id in mol_ids}\n",
    "        }\n",
    ")\n",
    "\n",
    "# add an emitter to save results\n",
    "v.add_emitter()\n",
    "\n",
    "# TODO -- show_values does not work\n",
    "v.diagram(dpi='70', show_values=True)"
   ],
   "id": "7229543edc8a0969",
   "outputs": [
    {
     "data": {
      "image/svg+xml": "<?xml version=\"1.0\" encoding=\"UTF-8\" standalone=\"no\"?>\n<!DOCTYPE svg PUBLIC \"-//W3C//DTD SVG 1.1//EN\"\n \"http://www.w3.org/Graphics/SVG/1.1/DTD/svg11.dtd\">\n<!-- Generated by graphviz version 9.0.0 (0)\n -->\n<!-- Title: bigraph Pages: 1 -->\n<svg width=\"525pt\" height=\"288pt\"\n viewBox=\"0.00 0.00 540.13 296.05\" xmlns=\"http://www.w3.org/2000/svg\" xmlns:xlink=\"http://www.w3.org/1999/xlink\">\n<g id=\"graph0\" class=\"graph\" transform=\"scale(0.972222 0.972222) rotate(0) translate(4 292.05)\">\n<title>bigraph</title>\n<polygon fill=\"white\" stroke=\"none\" points=\"-4,4 -4,-292.05 536.13,-292.05 536.13,4 -4,4\"/>\n<!-- (&#39;global_time&#39;,) -->\n<g id=\"node1\" class=\"node\">\n<title>(&#39;global_time&#39;,)</title>\n<ellipse fill=\"none\" stroke=\"black\" stroke-width=\"2\" cx=\"38.14\" cy=\"-249.92\" rx=\"38.14\" ry=\"38.14\"/>\n<text text-anchor=\"start\" x=\"9.48\" y=\"-246.32\" font-family=\"Times,serif\" font-size=\"12.00\">global_time</text>\n</g>\n<!-- (&#39;emitter&#39;,) -->\n<g id=\"node7\" class=\"node\">\n<title>(&#39;emitter&#39;,)</title>\n<polygon fill=\"none\" stroke=\"black\" stroke-width=\"2\" points=\"65.14,-141.89 11.14,-141.89 11.14,-105.89 65.14,-105.89 65.14,-141.89\"/>\n<text text-anchor=\"start\" x=\"21.15\" y=\"-120.29\" font-family=\"Times,serif\" font-size=\"12.00\">emitter</text>\n</g>\n<!-- (&#39;global_time&#39;,)&#45;&gt;(&#39;emitter&#39;,) -->\n<g id=\"edge8\" class=\"edge\">\n<title>(&#39;global_time&#39;,)&#45;&gt;(&#39;emitter&#39;,)</title>\n<path fill=\"none\" stroke=\"black\" stroke-dasharray=\"5,2\" d=\"M38.14,-211.03C38.14,-192.8 38.14,-171.28 38.14,-154.3\"/>\n<polygon fill=\"black\" stroke=\"black\" points=\"41.64,-154.37 38.14,-144.37 34.64,-154.37 41.64,-154.37\"/>\n<text text-anchor=\"start\" x=\"38.14\" y=\"-185.78\" font-family=\"Times,serif\" font-size=\"10.00\">global_time</text>\n</g>\n<!-- (&#39;fields&#39;,) -->\n<g id=\"node2\" class=\"node\">\n<title>(&#39;fields&#39;,)</title>\n<ellipse fill=\"none\" stroke=\"black\" stroke-width=\"2\" cx=\"197.14\" cy=\"-249.92\" rx=\"19.63\" ry=\"19.63\"/>\n<text text-anchor=\"start\" x=\"184.14\" y=\"-246.32\" font-family=\"Times,serif\" font-size=\"12.00\">fields</text>\n</g>\n<!-- (&#39;fields&#39;, &#39;glucose&#39;) -->\n<g id=\"node3\" class=\"node\">\n<title>(&#39;fields&#39;, &#39;glucose&#39;)</title>\n<ellipse fill=\"none\" stroke=\"black\" stroke-width=\"2\" cx=\"123.14\" cy=\"-123.89\" rx=\"40.31\" ry=\"40.31\"/>\n<text text-anchor=\"start\" x=\"92.64\" y=\"-120.29\" font-family=\"Times,serif\" font-size=\"12.00\">glucose:0.76</text>\n</g>\n<!-- (&#39;fields&#39;,)&#45;&gt;(&#39;fields&#39;, &#39;glucose&#39;) -->\n<g id=\"edge1\" class=\"edge\">\n<title>(&#39;fields&#39;,)&#45;&gt;(&#39;fields&#39;, &#39;glucose&#39;)</title>\n<path fill=\"none\" stroke=\"black\" stroke-width=\"2\" d=\"M187.39,-231.99C179.77,-218.81 168.87,-200.08 159.14,-183.78 154.35,-175.75 149.13,-167.15 144.2,-159.07\"/>\n</g>\n<!-- (&#39;fields&#39;, &#39;acetate&#39;) -->\n<g id=\"node4\" class=\"node\">\n<title>(&#39;fields&#39;, &#39;acetate&#39;)</title>\n<ellipse fill=\"none\" stroke=\"black\" stroke-width=\"2\" cx=\"220.14\" cy=\"-123.89\" rx=\"38.32\" ry=\"38.32\"/>\n<text text-anchor=\"start\" x=\"191.32\" y=\"-120.29\" font-family=\"Times,serif\" font-size=\"12.00\">acetate:0.95</text>\n</g>\n<!-- (&#39;fields&#39;,)&#45;&gt;(&#39;fields&#39;, &#39;acetate&#39;) -->\n<g id=\"edge2\" class=\"edge\">\n<title>(&#39;fields&#39;,)&#45;&gt;(&#39;fields&#39;, &#39;acetate&#39;)</title>\n<path fill=\"none\" stroke=\"black\" stroke-width=\"2\" d=\"M200.68,-229.81C204,-211.94 209.04,-184.74 213.16,-162.52\"/>\n</g>\n<!-- (&#39;fields&#39;, &#39;biomass&#39;) -->\n<g id=\"node5\" class=\"node\">\n<title>(&#39;fields&#39;, &#39;biomass&#39;)</title>\n<ellipse fill=\"none\" stroke=\"black\" stroke-width=\"2\" cx=\"405.14\" cy=\"-123.89\" rx=\"41.89\" ry=\"41.89\"/>\n<text text-anchor=\"start\" x=\"373.3\" y=\"-120.29\" font-family=\"Times,serif\" font-size=\"12.00\">biomass:0.72</text>\n</g>\n<!-- (&#39;fields&#39;,)&#45;&gt;(&#39;fields&#39;, &#39;biomass&#39;) -->\n<g id=\"edge3\" class=\"edge\">\n<title>(&#39;fields&#39;,)&#45;&gt;(&#39;fields&#39;, &#39;biomass&#39;)</title>\n<path fill=\"none\" stroke=\"black\" stroke-width=\"2\" d=\"M214.16,-238.77C247.83,-218.69 323.58,-173.52 368.91,-146.49\"/>\n</g>\n<!-- (&#39;fields&#39;,)&#45;&gt;(&#39;emitter&#39;,) -->\n<g id=\"edge7\" class=\"edge\">\n<title>(&#39;fields&#39;,)&#45;&gt;(&#39;emitter&#39;,)</title>\n<path fill=\"none\" stroke=\"black\" stroke-dasharray=\"5,2\" d=\"M179.85,-239.15C155.11,-224.76 108.77,-196.26 74.14,-165.78 69.04,-161.29 63.98,-156.11 59.32,-150.98\"/>\n<polygon fill=\"black\" stroke=\"black\" points=\"62.15,-148.89 52.94,-143.65 56.87,-153.49 62.15,-148.89\"/>\n<text text-anchor=\"start\" x=\"110.14\" y=\"-185.78\" font-family=\"Times,serif\" font-size=\"10.00\">fields</text>\n</g>\n<!-- (&#39;dFBA&#39;,) -->\n<g id=\"node6\" class=\"node\">\n<title>(&#39;dFBA&#39;,)</title>\n<polygon fill=\"none\" stroke=\"black\" stroke-width=\"2\" points=\"292.14,-36 238.14,-36 238.14,0 292.14,0 292.14,-36\"/>\n<text text-anchor=\"start\" x=\"250.47\" y=\"-14.4\" font-family=\"Times,serif\" font-size=\"12.00\">dFBA</text>\n</g>\n<!-- (&#39;fields&#39;, &#39;glucose&#39;)&#45;&gt;(&#39;dFBA&#39;,) -->\n<g id=\"edge4\" class=\"edge\">\n<title>(&#39;fields&#39;, &#39;glucose&#39;)&#45;&gt;(&#39;dFBA&#39;,)</title>\n<path fill=\"none\" stroke=\"black\" stroke-dasharray=\"5,2\" d=\"M93.43,-95.55C87.31,-90.67 80.71,-85.9 74.14,-82 53.63,-69.84 12.8,-72.05 28.37,-54 53.44,-24.95 165.57,-19.6 226.09,-18.87\"/>\n<polygon fill=\"black\" stroke=\"black\" points=\"225.98,-22.37 235.95,-18.79 225.93,-15.37 225.98,-22.37\"/>\n<text text-anchor=\"start\" x=\"29.14\" y=\"-56\" font-family=\"Times,serif\" font-size=\"10.00\">substrates/glucose</text>\n</g>\n<!-- (&#39;fields&#39;, &#39;glucose&#39;)&#45;&gt;(&#39;dFBA&#39;,) -->\n<g id=\"edge9\" class=\"edge\">\n<title>(&#39;fields&#39;, &#39;glucose&#39;)&#45;&gt;(&#39;dFBA&#39;,)</title>\n<path fill=\"none\" stroke=\"black\" stroke-dasharray=\"5,2\" d=\"M128.42,-72.14C130.93,-65.43 134.46,-59.12 139.37,-54 164.89,-27.44 208.69,-20.5 237.27,-18.97\"/>\n<polygon fill=\"black\" stroke=\"black\" points=\"125.15,-70.86 125.69,-81.45 131.87,-72.84 125.15,-70.86\"/>\n<text text-anchor=\"start\" x=\"140.14\" y=\"-56\" font-family=\"Times,serif\" font-size=\"10.00\">substrates/glucose</text>\n</g>\n<!-- (&#39;fields&#39;, &#39;acetate&#39;)&#45;&gt;(&#39;dFBA&#39;,) -->\n<g id=\"edge5\" class=\"edge\">\n<title>(&#39;fields&#39;, &#39;acetate&#39;)&#45;&gt;(&#39;dFBA&#39;,)</title>\n<path fill=\"none\" stroke=\"black\" stroke-dasharray=\"5,2\" d=\"M214.19,-85.04C214.1,-74.55 215.55,-63.45 220.17,-54 222.38,-49.48 225.49,-45.37 229.05,-41.69\"/>\n<polygon fill=\"black\" stroke=\"black\" points=\"231.08,-44.57 236.27,-35.33 226.45,-39.32 231.08,-44.57\"/>\n<text text-anchor=\"start\" x=\"220.14\" y=\"-56\" font-family=\"Times,serif\" font-size=\"10.00\">substrates/acetate</text>\n</g>\n<!-- (&#39;fields&#39;, &#39;acetate&#39;)&#45;&gt;(&#39;dFBA&#39;,) -->\n<g id=\"edge10\" class=\"edge\">\n<title>(&#39;fields&#39;, &#39;acetate&#39;)&#45;&gt;(&#39;dFBA&#39;,)</title>\n<path fill=\"none\" stroke=\"black\" stroke-dasharray=\"5,2\" d=\"M262.67,-97.05C273.67,-88.07 284.11,-76.95 290.14,-64 294.44,-54.76 289.95,-44.83 283.65,-36.65\"/>\n<polygon fill=\"black\" stroke=\"black\" points=\"260.86,-94.03 255.01,-102.87 265.09,-99.61 260.86,-94.03\"/>\n<text text-anchor=\"start\" x=\"291.14\" y=\"-56\" font-family=\"Times,serif\" font-size=\"10.00\">substrates/acetate</text>\n</g>\n<!-- (&#39;fields&#39;, &#39;biomass&#39;)&#45;&gt;(&#39;dFBA&#39;,) -->\n<g id=\"edge6\" class=\"edge\">\n<title>(&#39;fields&#39;, &#39;biomass&#39;)&#45;&gt;(&#39;dFBA&#39;,)</title>\n<path fill=\"none\" stroke=\"black\" stroke-dasharray=\"5,2\" d=\"M389,-84.28C382.87,-73.28 374.95,-62.11 365.14,-54 347.63,-39.53 323.76,-30.88 303.72,-25.8\"/>\n<polygon fill=\"black\" stroke=\"black\" points=\"304.76,-22.44 294.23,-23.6 303.18,-29.26 304.76,-22.44\"/>\n<text text-anchor=\"start\" x=\"374.14\" y=\"-56\" font-family=\"Times,serif\" font-size=\"10.00\">substrates/biomass</text>\n</g>\n<!-- (&#39;fields&#39;, &#39;biomass&#39;)&#45;&gt;(&#39;dFBA&#39;,) -->\n<g id=\"edge11\" class=\"edge\">\n<title>(&#39;fields&#39;, &#39;biomass&#39;)&#45;&gt;(&#39;dFBA&#39;,)</title>\n<path fill=\"none\" stroke=\"black\" stroke-dasharray=\"5,2\" d=\"M447.09,-90.02C457.11,-78.33 462.51,-65.28 453.14,-54 433.09,-29.87 340.17,-22.29 292.91,-19.98\"/>\n<polygon fill=\"black\" stroke=\"black\" points=\"444.62,-87.54 440.18,-97.15 449.65,-92.4 444.62,-87.54\"/>\n<text text-anchor=\"start\" x=\"457.14\" y=\"-56\" font-family=\"Times,serif\" font-size=\"10.00\">substrates/biomass</text>\n</g>\n</g>\n</svg>\n",
      "text/plain": [
       "<graphviz.graphs.Digraph at 0x1281c90d0>"
      ]
     },
     "execution_count": 29,
     "metadata": {},
     "output_type": "execute_result"
    }
   ],
   "execution_count": 29
  },
  {
   "metadata": {
    "ExecuteTime": {
     "end_time": "2025-04-16T15:08:35.502966Z",
     "start_time": "2025-04-16T15:08:35.495845Z"
    }
   },
   "cell_type": "code",
   "source": [
    "v.set_value(path = ['fields', 'glucose'], value=10)\n",
    "v.set_value(path = ['fields', 'biomass'], value=0.1)\n",
    "field = v.get_value(['fields'])\n",
    "print(field)"
   ],
   "id": "6d6a1b3508f477e0",
   "outputs": [
    {
     "name": "stdout",
     "output_type": "stream",
     "text": [
      "{'glucose': 10, 'acetate': 0.9497510412562499, 'biomass': 0.1}\n"
     ]
    }
   ],
   "execution_count": 30
  },
  {
   "metadata": {
    "ExecuteTime": {
     "end_time": "2025-04-16T15:08:35.554530Z",
     "start_time": "2025-04-16T15:08:35.509777Z"
    }
   },
   "cell_type": "code",
   "source": [
    "# run the simulation for 10 time units\n",
    "v.run(interval=60)"
   ],
   "id": "9a7c8befcc1c0139",
   "outputs": [],
   "execution_count": 31
  },
  {
   "metadata": {
    "ExecuteTime": {
     "end_time": "2025-04-16T15:08:35.614365Z",
     "start_time": "2025-04-16T15:08:35.561124Z"
    }
   },
   "cell_type": "code",
   "source": [
    "v.plot_timeseries(\n",
    "    subplot_size=(8, 3),\n",
    "    combined_vars=[\n",
    "        [\n",
    "            '/fields/glucose',\n",
    "            '/fields/acetate',\n",
    "            '/fields/biomass'\n",
    "        ]\n",
    "    ]\n",
    ")"
   ],
   "id": "cc668cc073e83bf3",
   "outputs": [
    {
     "data": {
      "text/plain": [
       "<Figure size 800x300 with 1 Axes>"
      ],
      "image/png": "[encoded data removed]"
     },
     "execution_count": 32,
     "metadata": {},
     "output_type": "execute_result"
    }
   ],
   "execution_count": 32
  },
  {
   "metadata": {},
   "cell_type": "markdown",
   "source": "## Spatial Dynamic FBA",
   "id": "76cd24ec882941b2"
  },
  {
   "metadata": {
    "ExecuteTime": {
     "end_time": "2025-04-16T15:08:35.815699Z",
     "start_time": "2025-04-16T15:08:35.643213Z"
    }
   },
   "cell_type": "code",
   "source": [
    "mol_ids = [\"glucose\", \"acetate\", \"biomass\"]\n",
    "path=[\"fields\"]\n",
    "rows = 2\n",
    "columns = 1\n",
    "\n",
    "# make the vivarium\n",
    "v2 = Vivarium(processes=PROCESS_DICT, types=TYPES_DICT)\n",
    "for mol_id in mol_ids:\n",
    "    v2.add_object(\n",
    "        name=mol_id,\n",
    "        path=path,\n",
    "        # type='array',\n",
    "        value=np.random.rand(rows, columns)\n",
    "    )\n",
    "\n",
    "# add a dynamic FBA process at every location\n",
    "for i in range(rows):\n",
    "    for j in range(columns):\n",
    "\n",
    "        dfba_name = f\"dFBA[{i},{j}]\"\n",
    "        path_name = build_path(path, 'mol_id', i, j)\n",
    "        print(f'Adding {dfba_name} to {path_name}\\n')\n",
    "\n",
    "        rewire_path= path  # [\"..\"] + path\n",
    "\n",
    "        # add a process for this location\n",
    "        v2.add_process(\n",
    "            name=dfba_name,\n",
    "            process_id=\"DynamicFBA\",\n",
    "            # path=['species'],\n",
    "            config=dfba_config,\n",
    "        )\n",
    "        v2.connect_process(\n",
    "            process_name=dfba_name,\n",
    "            # path=['species'],\n",
    "            inputs={\n",
    "                    \"substrates\": {\n",
    "                        mol_id: build_path(rewire_path, mol_id, i, j)\n",
    "                        for mol_id in mol_ids}\n",
    "                },\n",
    "            outputs={\n",
    "                    \"substrates\": {\n",
    "                        mol_id: build_path(rewire_path, mol_id, i, j)\n",
    "                        for mol_id in mol_ids}\n",
    "                }\n",
    "        )\n",
    "\n",
    "# add an emitter to save results\n",
    "v2.add_emitter()\n",
    "\n",
    "v2.diagram(dpi='70')"
   ],
   "id": "8de7c459d363838",
   "outputs": [
    {
     "name": "stdout",
     "output_type": "stream",
     "text": [
      "Adding dFBA[0,0] to ['fields', 'mol_id', 0, 0]\n",
      "\n",
      "Adding dFBA[1,0] to ['fields', 'mol_id', 1, 0]\n",
      "\n"
     ]
    },
    {
     "data": {
      "image/svg+xml": "<?xml version=\"1.0\" encoding=\"UTF-8\" standalone=\"no\"?>\n<!DOCTYPE svg PUBLIC \"-//W3C//DTD SVG 1.1//EN\"\n \"http://www.w3.org/Graphics/SVG/1.1/DTD/svg11.dtd\">\n<!-- Generated by graphviz version 9.0.0 (0)\n -->\n<!-- Title: bigraph Pages: 1 -->\n<svg width=\"1120pt\" height=\"148pt\"\n viewBox=\"0.00 0.00 1152.00 152.45\" xmlns=\"http://www.w3.org/2000/svg\" xmlns:xlink=\"http://www.w3.org/1999/xlink\">\n<g id=\"graph0\" class=\"graph\" transform=\"scale(0.799924 0.799924) rotate(0) translate(4 181.29)\">\n<title>bigraph</title>\n<polygon fill=\"white\" stroke=\"none\" points=\"-4,4 -4,-181.29 1396.13,-181.29 1396.13,4 -4,4\"/>\n<!-- (&#39;global_time&#39;,) -->\n<g id=\"node1\" class=\"node\">\n<title>(&#39;global_time&#39;,)</title>\n<ellipse fill=\"none\" stroke=\"black\" stroke-width=\"2\" cx=\"38.14\" cy=\"-139.15\" rx=\"38.14\" ry=\"38.14\"/>\n<text text-anchor=\"start\" x=\"9.48\" y=\"-135.55\" font-family=\"Times,serif\" font-size=\"12.00\">global_time</text>\n</g>\n<!-- (&#39;emitter&#39;,) -->\n<g id=\"node8\" class=\"node\">\n<title>(&#39;emitter&#39;,)</title>\n<polygon fill=\"none\" stroke=\"black\" stroke-width=\"2\" points=\"83.14,-45.51 29.14,-45.51 29.14,-9.51 83.14,-9.51 83.14,-45.51\"/>\n<text text-anchor=\"start\" x=\"39.15\" y=\"-23.91\" font-family=\"Times,serif\" font-size=\"12.00\">emitter</text>\n</g>\n<!-- (&#39;global_time&#39;,)&#45;&gt;(&#39;emitter&#39;,) -->\n<g id=\"edge11\" class=\"edge\">\n<title>(&#39;global_time&#39;,)&#45;&gt;(&#39;emitter&#39;,)</title>\n<path fill=\"none\" stroke=\"black\" stroke-dasharray=\"5,2\" d=\"M36.67,-100.38C36.92,-91.35 37.69,-81.79 39.37,-73.01 40.4,-67.62 42.03,-62.02 43.88,-56.7\"/>\n<polygon fill=\"black\" stroke=\"black\" points=\"47.01,-58.29 47.31,-47.7 40.47,-55.8 47.01,-58.29\"/>\n<text text-anchor=\"start\" x=\"40.14\" y=\"-75.01\" font-family=\"Times,serif\" font-size=\"10.00\">global_time</text>\n</g>\n<!-- (&#39;fields&#39;,) -->\n<g id=\"node2\" class=\"node\">\n<title>(&#39;fields&#39;,)</title>\n<ellipse fill=\"none\" stroke=\"black\" stroke-width=\"2\" cx=\"175.14\" cy=\"-139.15\" rx=\"19.63\" ry=\"19.63\"/>\n<text text-anchor=\"start\" x=\"162.14\" y=\"-135.55\" font-family=\"Times,serif\" font-size=\"12.00\">fields</text>\n</g>\n<!-- (&#39;fields&#39;, &#39;glucose&#39;) -->\n<g id=\"node3\" class=\"node\">\n<title>(&#39;fields&#39;, &#39;glucose&#39;)</title>\n<ellipse fill=\"none\" stroke=\"black\" stroke-width=\"2\" cx=\"136.14\" cy=\"-27.51\" rx=\"25.92\" ry=\"25.92\"/>\n<text text-anchor=\"start\" x=\"117.81\" y=\"-23.91\" font-family=\"Times,serif\" font-size=\"12.00\">glucose</text>\n</g>\n<!-- (&#39;fields&#39;,)&#45;&gt;(&#39;fields&#39;, &#39;glucose&#39;) -->\n<g id=\"edge1\" class=\"edge\">\n<title>(&#39;fields&#39;,)&#45;&gt;(&#39;fields&#39;, &#39;glucose&#39;)</title>\n<path fill=\"none\" stroke=\"black\" stroke-width=\"2\" d=\"M168.7,-120.04C162.16,-101.67 152.01,-73.13 144.78,-52.8\"/>\n</g>\n<!-- (&#39;fields&#39;, &#39;acetate&#39;) -->\n<g id=\"node4\" class=\"node\">\n<title>(&#39;fields&#39;, &#39;acetate&#39;)</title>\n<ellipse fill=\"none\" stroke=\"black\" stroke-width=\"2\" cx=\"204.14\" cy=\"-27.51\" rx=\"23.94\" ry=\"23.94\"/>\n<text text-anchor=\"start\" x=\"187.49\" y=\"-23.91\" font-family=\"Times,serif\" font-size=\"12.00\">acetate</text>\n</g>\n<!-- (&#39;fields&#39;,)&#45;&gt;(&#39;fields&#39;, &#39;acetate&#39;) -->\n<g id=\"edge2\" class=\"edge\">\n<title>(&#39;fields&#39;,)&#45;&gt;(&#39;fields&#39;, &#39;acetate&#39;)</title>\n<path fill=\"none\" stroke=\"black\" stroke-width=\"2\" d=\"M180.06,-119.55C185.03,-100.73 192.74,-71.61 198.09,-51.39\"/>\n</g>\n<!-- (&#39;fields&#39;, &#39;biomass&#39;) -->\n<g id=\"node5\" class=\"node\">\n<title>(&#39;fields&#39;, &#39;biomass&#39;)</title>\n<ellipse fill=\"none\" stroke=\"black\" stroke-width=\"2\" cx=\"273.14\" cy=\"-27.51\" rx=\"27.51\" ry=\"27.51\"/>\n<text text-anchor=\"start\" x=\"253.47\" y=\"-23.91\" font-family=\"Times,serif\" font-size=\"12.00\">biomass</text>\n</g>\n<!-- (&#39;fields&#39;,)&#45;&gt;(&#39;fields&#39;, &#39;biomass&#39;) -->\n<g id=\"edge3\" class=\"edge\">\n<title>(&#39;fields&#39;,)&#45;&gt;(&#39;fields&#39;, &#39;biomass&#39;)</title>\n<path fill=\"none\" stroke=\"black\" stroke-width=\"2\" d=\"M188.35,-123.36C205.49,-104.19 235.47,-70.65 254.8,-49.02\"/>\n</g>\n<!-- (&#39;fields&#39;,)&#45;&gt;(&#39;emitter&#39;,) -->\n<g id=\"edge10\" class=\"edge\">\n<title>(&#39;fields&#39;,)&#45;&gt;(&#39;emitter&#39;,)</title>\n<path fill=\"none\" stroke=\"black\" stroke-dasharray=\"5,2\" d=\"M160.55,-124.7C141.53,-107.18 107.89,-76.19 83.93,-54.11\"/>\n<polygon fill=\"black\" stroke=\"black\" points=\"86.43,-51.65 76.7,-47.45 81.68,-56.8 86.43,-51.65\"/>\n<text text-anchor=\"start\" x=\"112.14\" y=\"-75.01\" font-family=\"Times,serif\" font-size=\"10.00\">fields</text>\n</g>\n<!-- (&#39;dFBA[0,0]&#39;,) -->\n<g id=\"node6\" class=\"node\">\n<title>(&#39;dFBA[0,0]&#39;,)</title>\n<polygon fill=\"none\" stroke=\"black\" stroke-width=\"2\" points=\"573.91,-45.51 514.37,-45.51 514.37,-9.51 573.91,-9.51 573.91,-45.51\"/>\n<text text-anchor=\"start\" x=\"517.97\" y=\"-23.91\" font-family=\"Times,serif\" font-size=\"12.00\">dFBA[0,0]</text>\n</g>\n<!-- (&#39;dFBA[1,0]&#39;,) -->\n<g id=\"node7\" class=\"node\">\n<title>(&#39;dFBA[1,0]&#39;,)</title>\n<polygon fill=\"none\" stroke=\"black\" stroke-width=\"2\" points=\"1147.91,-45.51 1088.37,-45.51 1088.37,-9.51 1147.91,-9.51 1147.91,-45.51\"/>\n<text text-anchor=\"start\" x=\"1091.97\" y=\"-23.91\" font-family=\"Times,serif\" font-size=\"12.00\">dFBA[1,0]</text>\n</g>\n<!-- (&#39;fields&#39;, &#39;glucose&#39;, 0, 0) -->\n<g id=\"node9\" class=\"node\">\n<title>(&#39;fields&#39;, &#39;glucose&#39;, 0, 0)</title>\n<ellipse fill=\"none\" stroke=\"black\" stroke-width=\"2\" cx=\"354.14\" cy=\"-139.15\" rx=\"18\" ry=\"18\"/>\n<text text-anchor=\"start\" x=\"351.14\" y=\"-135.55\" font-family=\"Times,serif\" font-size=\"12.00\">0</text>\n</g>\n<!-- (&#39;fields&#39;, &#39;glucose&#39;, 0, 0)&#45;&gt;(&#39;dFBA[0,0]&#39;,) -->\n<g id=\"edge4\" class=\"edge\">\n<title>(&#39;fields&#39;, &#39;glucose&#39;, 0, 0)&#45;&gt;(&#39;dFBA[0,0]&#39;,)</title>\n<path fill=\"none\" stroke=\"black\" stroke-dasharray=\"5,2\" d=\"M338.71,-128.57C319.7,-115.58 291.73,-91.87 307.37,-73.01 331.71,-43.68 441.4,-33.55 502.57,-30.15\"/>\n<polygon fill=\"black\" stroke=\"black\" points=\"502.44,-33.67 512.25,-29.66 502.08,-26.68 502.44,-33.67\"/>\n<text text-anchor=\"start\" x=\"308.14\" y=\"-75.01\" font-family=\"Times,serif\" font-size=\"10.00\">substrates/glucose</text>\n</g>\n<!-- (&#39;fields&#39;, &#39;glucose&#39;, 0, 0)&#45;&gt;(&#39;dFBA[0,0]&#39;,) -->\n<g id=\"edge12\" class=\"edge\">\n<title>(&#39;fields&#39;, &#39;glucose&#39;, 0, 0)&#45;&gt;(&#39;dFBA[0,0]&#39;,)</title>\n<path fill=\"none\" stroke=\"black\" stroke-dasharray=\"5,2\" d=\"M372.89,-115.64C385.43,-101.79 402.95,-84.53 421.37,-73.01 450.31,-54.93 487.65,-42.72 513.51,-35.74\"/>\n<polygon fill=\"black\" stroke=\"black\" points=\"370.38,-113.2 366.42,-123.03 375.64,-117.82 370.38,-113.2\"/>\n<text text-anchor=\"start\" x=\"422.14\" y=\"-75.01\" font-family=\"Times,serif\" font-size=\"10.00\">substrates/glucose</text>\n</g>\n<!-- (&#39;fields&#39;, &#39;acetate&#39;, 0, 0) -->\n<g id=\"node10\" class=\"node\">\n<title>(&#39;fields&#39;, &#39;acetate&#39;, 0, 0)</title>\n<ellipse fill=\"none\" stroke=\"black\" stroke-width=\"2\" cx=\"544.14\" cy=\"-139.15\" rx=\"18\" ry=\"18\"/>\n<text text-anchor=\"start\" x=\"541.14\" y=\"-135.55\" font-family=\"Times,serif\" font-size=\"12.00\">0</text>\n</g>\n<!-- (&#39;fields&#39;, &#39;acetate&#39;, 0, 0)&#45;&gt;(&#39;dFBA[0,0]&#39;,) -->\n<g id=\"edge5\" class=\"edge\">\n<title>(&#39;fields&#39;, &#39;acetate&#39;, 0, 0)&#45;&gt;(&#39;dFBA[0,0]&#39;,)</title>\n<path fill=\"none\" stroke=\"black\" stroke-dasharray=\"5,2\" d=\"M530.59,-126.6C519.76,-116.4 505.39,-100.47 499.17,-83.01 495.44,-72.52 500,-62.62 507.45,-54.21\"/>\n<polygon fill=\"black\" stroke=\"black\" points=\"509.78,-56.82 514.57,-47.37 504.93,-51.78 509.78,-56.82\"/>\n<text text-anchor=\"start\" x=\"500.14\" y=\"-75.01\" font-family=\"Times,serif\" font-size=\"10.00\">substrates/acetate</text>\n</g>\n<!-- (&#39;fields&#39;, &#39;acetate&#39;, 0, 0)&#45;&gt;(&#39;dFBA[0,0]&#39;,) -->\n<g id=\"edge13\" class=\"edge\">\n<title>(&#39;fields&#39;, &#39;acetate&#39;, 0, 0)&#45;&gt;(&#39;dFBA[0,0]&#39;,)</title>\n<path fill=\"none\" stroke=\"black\" stroke-dasharray=\"5,2\" d=\"M561.07,-114.17C567.63,-102.04 572.79,-86.97 569.14,-73.01 566.67,-63.58 561.71,-54.04 556.85,-46.22\"/>\n<polygon fill=\"black\" stroke=\"black\" points=\"558.11,-112.3 555.92,-122.67 564.09,-115.93 558.11,-112.3\"/>\n<text text-anchor=\"start\" x=\"571.14\" y=\"-75.01\" font-family=\"Times,serif\" font-size=\"10.00\">substrates/acetate</text>\n</g>\n<!-- (&#39;fields&#39;, &#39;biomass&#39;, 0, 0) -->\n<g id=\"node11\" class=\"node\">\n<title>(&#39;fields&#39;, &#39;biomass&#39;, 0, 0)</title>\n<ellipse fill=\"none\" stroke=\"black\" stroke-width=\"2\" cx=\"733.14\" cy=\"-139.15\" rx=\"18\" ry=\"18\"/>\n<text text-anchor=\"start\" x=\"730.14\" y=\"-135.55\" font-family=\"Times,serif\" font-size=\"12.00\">0</text>\n</g>\n<!-- (&#39;fields&#39;, &#39;biomass&#39;, 0, 0)&#45;&gt;(&#39;dFBA[0,0]&#39;,) -->\n<g id=\"edge6\" class=\"edge\">\n<title>(&#39;fields&#39;, &#39;biomass&#39;, 0, 0)&#45;&gt;(&#39;dFBA[0,0]&#39;,)</title>\n<path fill=\"none\" stroke=\"black\" stroke-dasharray=\"5,2\" d=\"M719.18,-126.28C702.37,-112.36 672.92,-89.14 645.14,-73.01 626.16,-61.99 603.95,-51.92 585.2,-44.16\"/>\n<polygon fill=\"black\" stroke=\"black\" points=\"586.59,-40.95 576.01,-40.44 583.96,-47.44 586.59,-40.95\"/>\n<text text-anchor=\"start\" x=\"661.14\" y=\"-75.01\" font-family=\"Times,serif\" font-size=\"10.00\">substrates/biomass</text>\n</g>\n<!-- (&#39;fields&#39;, &#39;biomass&#39;, 0, 0)&#45;&gt;(&#39;dFBA[0,0]&#39;,) -->\n<g id=\"edge14\" class=\"edge\">\n<title>(&#39;fields&#39;, &#39;biomass&#39;, 0, 0)&#45;&gt;(&#39;dFBA[0,0]&#39;,)</title>\n<path fill=\"none\" stroke=\"black\" stroke-dasharray=\"5,2\" d=\"M744.25,-111.27C747.66,-98.43 748.59,-83.6 740.14,-73.01 719.78,-47.51 624.58,-35.52 574.74,-30.91\"/>\n<polygon fill=\"black\" stroke=\"black\" points=\"741.03,-109.85 741.26,-120.45 747.69,-112.03 741.03,-109.85\"/>\n<text text-anchor=\"start\" x=\"745.14\" y=\"-75.01\" font-family=\"Times,serif\" font-size=\"10.00\">substrates/biomass</text>\n</g>\n<!-- (&#39;fields&#39;, &#39;glucose&#39;, 1, 0) -->\n<g id=\"node12\" class=\"node\">\n<title>(&#39;fields&#39;, &#39;glucose&#39;, 1, 0)</title>\n<ellipse fill=\"none\" stroke=\"black\" stroke-width=\"2\" cx=\"928.14\" cy=\"-139.15\" rx=\"18\" ry=\"18\"/>\n<text text-anchor=\"start\" x=\"925.14\" y=\"-135.55\" font-family=\"Times,serif\" font-size=\"12.00\">0</text>\n</g>\n<!-- (&#39;fields&#39;, &#39;glucose&#39;, 1, 0)&#45;&gt;(&#39;dFBA[1,0]&#39;,) -->\n<g id=\"edge7\" class=\"edge\">\n<title>(&#39;fields&#39;, &#39;glucose&#39;, 1, 0)&#45;&gt;(&#39;dFBA[1,0]&#39;,)</title>\n<path fill=\"none\" stroke=\"black\" stroke-dasharray=\"5,2\" d=\"M912.71,-128.57C893.7,-115.58 865.73,-91.87 881.37,-73.01 905.71,-43.68 1015.4,-33.55 1076.57,-30.15\"/>\n<polygon fill=\"black\" stroke=\"black\" points=\"1076.44,-33.67 1086.25,-29.66 1076.08,-26.68 1076.44,-33.67\"/>\n<text text-anchor=\"start\" x=\"882.14\" y=\"-75.01\" font-family=\"Times,serif\" font-size=\"10.00\">substrates/glucose</text>\n</g>\n<!-- (&#39;fields&#39;, &#39;glucose&#39;, 1, 0)&#45;&gt;(&#39;dFBA[1,0]&#39;,) -->\n<g id=\"edge15\" class=\"edge\">\n<title>(&#39;fields&#39;, &#39;glucose&#39;, 1, 0)&#45;&gt;(&#39;dFBA[1,0]&#39;,)</title>\n<path fill=\"none\" stroke=\"black\" stroke-dasharray=\"5,2\" d=\"M946.89,-115.64C959.43,-101.79 976.95,-84.53 995.37,-73.01 1024.31,-54.93 1061.65,-42.72 1087.51,-35.74\"/>\n<polygon fill=\"black\" stroke=\"black\" points=\"944.38,-113.2 940.42,-123.03 949.64,-117.82 944.38,-113.2\"/>\n<text text-anchor=\"start\" x=\"996.14\" y=\"-75.01\" font-family=\"Times,serif\" font-size=\"10.00\">substrates/glucose</text>\n</g>\n<!-- (&#39;fields&#39;, &#39;acetate&#39;, 1, 0) -->\n<g id=\"node13\" class=\"node\">\n<title>(&#39;fields&#39;, &#39;acetate&#39;, 1, 0)</title>\n<ellipse fill=\"none\" stroke=\"black\" stroke-width=\"2\" cx=\"1118.14\" cy=\"-139.15\" rx=\"18\" ry=\"18\"/>\n<text text-anchor=\"start\" x=\"1115.14\" y=\"-135.55\" font-family=\"Times,serif\" font-size=\"12.00\">0</text>\n</g>\n<!-- (&#39;fields&#39;, &#39;acetate&#39;, 1, 0)&#45;&gt;(&#39;dFBA[1,0]&#39;,) -->\n<g id=\"edge8\" class=\"edge\">\n<title>(&#39;fields&#39;, &#39;acetate&#39;, 1, 0)&#45;&gt;(&#39;dFBA[1,0]&#39;,)</title>\n<path fill=\"none\" stroke=\"black\" stroke-dasharray=\"5,2\" d=\"M1104.59,-126.6C1093.76,-116.4 1079.39,-100.47 1073.17,-83.01 1069.44,-72.52 1074,-62.62 1081.45,-54.21\"/>\n<polygon fill=\"black\" stroke=\"black\" points=\"1083.78,-56.82 1088.57,-47.37 1078.93,-51.78 1083.78,-56.82\"/>\n<text text-anchor=\"start\" x=\"1074.14\" y=\"-75.01\" font-family=\"Times,serif\" font-size=\"10.00\">substrates/acetate</text>\n</g>\n<!-- (&#39;fields&#39;, &#39;acetate&#39;, 1, 0)&#45;&gt;(&#39;dFBA[1,0]&#39;,) -->\n<g id=\"edge16\" class=\"edge\">\n<title>(&#39;fields&#39;, &#39;acetate&#39;, 1, 0)&#45;&gt;(&#39;dFBA[1,0]&#39;,)</title>\n<path fill=\"none\" stroke=\"black\" stroke-dasharray=\"5,2\" d=\"M1135.07,-114.17C1141.63,-102.04 1146.79,-86.97 1143.14,-73.01 1140.67,-63.58 1135.71,-54.04 1130.85,-46.22\"/>\n<polygon fill=\"black\" stroke=\"black\" points=\"1132.11,-112.3 1129.92,-122.67 1138.09,-115.93 1132.11,-112.3\"/>\n<text text-anchor=\"start\" x=\"1145.14\" y=\"-75.01\" font-family=\"Times,serif\" font-size=\"10.00\">substrates/acetate</text>\n</g>\n<!-- (&#39;fields&#39;, &#39;biomass&#39;, 1, 0) -->\n<g id=\"node14\" class=\"node\">\n<title>(&#39;fields&#39;, &#39;biomass&#39;, 1, 0)</title>\n<ellipse fill=\"none\" stroke=\"black\" stroke-width=\"2\" cx=\"1307.14\" cy=\"-139.15\" rx=\"18\" ry=\"18\"/>\n<text text-anchor=\"start\" x=\"1304.14\" y=\"-135.55\" font-family=\"Times,serif\" font-size=\"12.00\">0</text>\n</g>\n<!-- (&#39;fields&#39;, &#39;biomass&#39;, 1, 0)&#45;&gt;(&#39;dFBA[1,0]&#39;,) -->\n<g id=\"edge9\" class=\"edge\">\n<title>(&#39;fields&#39;, &#39;biomass&#39;, 1, 0)&#45;&gt;(&#39;dFBA[1,0]&#39;,)</title>\n<path fill=\"none\" stroke=\"black\" stroke-dasharray=\"5,2\" d=\"M1293.18,-126.28C1276.37,-112.36 1246.92,-89.14 1219.14,-73.01 1200.16,-61.99 1177.95,-51.92 1159.2,-44.16\"/>\n<polygon fill=\"black\" stroke=\"black\" points=\"1160.59,-40.95 1150.01,-40.44 1157.96,-47.44 1160.59,-40.95\"/>\n<text text-anchor=\"start\" x=\"1234.14\" y=\"-75.01\" font-family=\"Times,serif\" font-size=\"10.00\">substrates/biomass</text>\n</g>\n<!-- (&#39;fields&#39;, &#39;biomass&#39;, 1, 0)&#45;&gt;(&#39;dFBA[1,0]&#39;,) -->\n<g id=\"edge17\" class=\"edge\">\n<title>(&#39;fields&#39;, &#39;biomass&#39;, 1, 0)&#45;&gt;(&#39;dFBA[1,0]&#39;,)</title>\n<path fill=\"none\" stroke=\"black\" stroke-dasharray=\"5,2\" d=\"M1317.78,-110.87C1320.87,-98.12 1321.49,-83.48 1313.14,-73.01 1292.89,-47.63 1198.18,-35.58 1148.59,-30.93\"/>\n<polygon fill=\"black\" stroke=\"black\" points=\"1314.43,-109.85 1314.87,-120.43 1321.13,-111.88 1314.43,-109.85\"/>\n<text text-anchor=\"start\" x=\"1317.14\" y=\"-75.01\" font-family=\"Times,serif\" font-size=\"10.00\">substrates/biomass</text>\n</g>\n</g>\n</svg>\n",
      "text/plain": [
       "<graphviz.graphs.Digraph at 0x128f5be50>"
      ]
     },
     "execution_count": 33,
     "metadata": {},
     "output_type": "execute_result"
    }
   ],
   "execution_count": 33
  },
  {
   "metadata": {
    "ExecuteTime": {
     "end_time": "2025-04-16T15:08:35.837346Z",
     "start_time": "2025-04-16T15:08:35.827671Z"
    }
   },
   "cell_type": "code",
   "source": [
    "# change some initial values\n",
    "v2.set_value(path = ['fields', 'glucose', 0, 0], value=10)\n",
    "v2.set_value(path = ['fields', 'biomass', 0, 0], value=0.1)\n",
    "field = v2.get_value(['fields'])\n",
    "print(field)"
   ],
   "id": "620da2a03265a606",
   "outputs": [
    {
     "name": "stdout",
     "output_type": "stream",
     "text": [
      "{'glucose': array([[10.        ],\n",
      "       [ 0.45703125]]), 'acetate': array([[0.7982231 ],\n",
      "       [0.94399344]]), 'biomass': array([[0.1       ],\n",
      "       [0.44723006]])}\n"
     ]
    }
   ],
   "execution_count": 34
  },
  {
   "metadata": {
    "ExecuteTime": {
     "end_time": "2025-04-16T15:08:36.004758Z",
     "start_time": "2025-04-16T15:08:35.896256Z"
    }
   },
   "cell_type": "code",
   "source": "v2.run(60)",
   "id": "2182d1583da15e",
   "outputs": [],
   "execution_count": 35
  },
  {
   "metadata": {
    "ExecuteTime": {
     "end_time": "2025-04-16T15:08:36.013655Z",
     "start_time": "2025-04-16T15:08:36.011407Z"
    }
   },
   "cell_type": "code",
   "source": "timeseries = v2.get_timeseries(as_dataframe=True)",
   "id": "eabda4501b519fa2",
   "outputs": [],
   "execution_count": 36
  },
  {
   "metadata": {
    "ExecuteTime": {
     "end_time": "2025-04-16T15:08:36.045815Z",
     "start_time": "2025-04-16T15:08:36.029743Z"
    }
   },
   "cell_type": "code",
   "source": "timeseries",
   "id": "c43e4305ef232741",
   "outputs": [
    {
     "data": {
      "text/plain": [
       "   /global_time                               /fields/glucose  \\\n",
       "0           0.0               [[10.0], [0.45703125445973714]]   \n",
       "1           1.0  [[9.904761904761905], [0.24345608054961138]]   \n",
       "2           2.0   [[9.80200585245463], [0.08856328014365641]]   \n",
       "3           3.0  [[9.691145527078628], [0.01388264626646131]]   \n",
       "4           4.0  [[9.571550338512791], [0.01388264626646131]]   \n",
       "..          ...                                           ...   \n",
       "56         56.0                [[0.0], [0.01388264626646131]]   \n",
       "57         57.0                [[0.0], [0.01388264626646131]]   \n",
       "58         58.0                [[0.0], [0.01388264626646131]]   \n",
       "59         59.0                [[0.0], [0.01388264626646131]]   \n",
       "60         60.0                [[0.0], [0.01388264626646131]]   \n",
       "\n",
       "                                  /fields/acetate  \\\n",
       "0    [[0.7982231047431073], [0.9439934433446199]]   \n",
       "1    [[0.8103311569391966], [0.5741524579041876]]   \n",
       "2   [[0.8233070444153374], [0.06849406383356738]]   \n",
       "3                   [[0.8372018751648249], [0.0]]   \n",
       "4                    [[0.852067252328021], [0.0]]   \n",
       "..                                            ...   \n",
       "56                                 [[0.0], [0.0]]   \n",
       "57                                 [[0.0], [0.0]]   \n",
       "58                                 [[0.0], [0.0]]   \n",
       "59                                 [[0.0], [0.0]]   \n",
       "60                                 [[0.0], [0.0]]   \n",
       "\n",
       "                                  /fields/biomass  \n",
       "0                   [[0.1], [0.4472300627454592]]  \n",
       "1    [[0.1079432568708625], [0.4730052091333906]]  \n",
       "2   [[0.11651530697082768], [0.4963036460107645]]  \n",
       "3     [[0.12576552148631978], [0.50330845251646]]  \n",
       "4     [[0.13574706721093277], [0.50330845251646]]  \n",
       "..                                            ...  \n",
       "56     [[0.9876825392388233], [0.50330845251646]]  \n",
       "57     [[0.9876825392388233], [0.50330845251646]]  \n",
       "58     [[0.9876825392388233], [0.50330845251646]]  \n",
       "59     [[0.9876825392388233], [0.50330845251646]]  \n",
       "60     [[0.9876825392388233], [0.50330845251646]]  \n",
       "\n",
       "[61 rows x 4 columns]"
      ],
      "text/html": [
       "<div>\n",
       "<style scoped>\n",
       "    .dataframe tbody tr th:only-of-type {\n",
       "        vertical-align: middle;\n",
       "    }\n",
       "\n",
       "    .dataframe tbody tr th {\n",
       "        vertical-align: top;\n",
       "    }\n",
       "\n",
       "    .dataframe thead th {\n",
       "        text-align: right;\n",
       "    }\n",
       "</style>\n",
       "<table border=\"1\" class=\"dataframe\">\n",
       "  <thead>\n",
       "    <tr style=\"text-align: right;\">\n",
       "      <th></th>\n",
       "      <th>/global_time</th>\n",
       "      <th>/fields/glucose</th>\n",
       "      <th>/fields/acetate</th>\n",
       "      <th>/fields/biomass</th>\n",
       "    </tr>\n",
       "  </thead>\n",
       "  <tbody>\n",
       "    <tr>\n",
       "      <th>0</th>\n",
       "      <td>0.0</td>\n",
       "      <td>[[10.0], [0.45703125445973714]]</td>\n",
       "      <td>[[0.7982231047431073], [0.9439934433446199]]</td>\n",
       "      <td>[[0.1], [0.4472300627454592]]</td>\n",
       "    </tr>\n",
       "    <tr>\n",
       "      <th>1</th>\n",
       "      <td>1.0</td>\n",
       "      <td>[[9.904761904761905], [0.24345608054961138]]</td>\n",
       "      <td>[[0.8103311569391966], [0.5741524579041876]]</td>\n",
       "      <td>[[0.1079432568708625], [0.4730052091333906]]</td>\n",
       "    </tr>\n",
       "    <tr>\n",
       "      <th>2</th>\n",
       "      <td>2.0</td>\n",
       "      <td>[[9.80200585245463], [0.08856328014365641]]</td>\n",
       "      <td>[[0.8233070444153374], [0.06849406383356738]]</td>\n",
       "      <td>[[0.11651530697082768], [0.4963036460107645]]</td>\n",
       "    </tr>\n",
       "    <tr>\n",
       "      <th>3</th>\n",
       "      <td>3.0</td>\n",
       "      <td>[[9.691145527078628], [0.01388264626646131]]</td>\n",
       "      <td>[[0.8372018751648249], [0.0]]</td>\n",
       "      <td>[[0.12576552148631978], [0.50330845251646]]</td>\n",
       "    </tr>\n",
       "    <tr>\n",
       "      <th>4</th>\n",
       "      <td>4.0</td>\n",
       "      <td>[[9.571550338512791], [0.01388264626646131]]</td>\n",
       "      <td>[[0.852067252328021], [0.0]]</td>\n",
       "      <td>[[0.13574706721093277], [0.50330845251646]]</td>\n",
       "    </tr>\n",
       "    <tr>\n",
       "      <th>...</th>\n",
       "      <td>...</td>\n",
       "      <td>...</td>\n",
       "      <td>...</td>\n",
       "      <td>...</td>\n",
       "    </tr>\n",
       "    <tr>\n",
       "      <th>56</th>\n",
       "      <td>56.0</td>\n",
       "      <td>[[0.0], [0.01388264626646131]]</td>\n",
       "      <td>[[0.0], [0.0]]</td>\n",
       "      <td>[[0.9876825392388233], [0.50330845251646]]</td>\n",
       "    </tr>\n",
       "    <tr>\n",
       "      <th>57</th>\n",
       "      <td>57.0</td>\n",
       "      <td>[[0.0], [0.01388264626646131]]</td>\n",
       "      <td>[[0.0], [0.0]]</td>\n",
       "      <td>[[0.9876825392388233], [0.50330845251646]]</td>\n",
       "    </tr>\n",
       "    <tr>\n",
       "      <th>58</th>\n",
       "      <td>58.0</td>\n",
       "      <td>[[0.0], [0.01388264626646131]]</td>\n",
       "      <td>[[0.0], [0.0]]</td>\n",
       "      <td>[[0.9876825392388233], [0.50330845251646]]</td>\n",
       "    </tr>\n",
       "    <tr>\n",
       "      <th>59</th>\n",
       "      <td>59.0</td>\n",
       "      <td>[[0.0], [0.01388264626646131]]</td>\n",
       "      <td>[[0.0], [0.0]]</td>\n",
       "      <td>[[0.9876825392388233], [0.50330845251646]]</td>\n",
       "    </tr>\n",
       "    <tr>\n",
       "      <th>60</th>\n",
       "      <td>60.0</td>\n",
       "      <td>[[0.0], [0.01388264626646131]]</td>\n",
       "      <td>[[0.0], [0.0]]</td>\n",
       "      <td>[[0.9876825392388233], [0.50330845251646]]</td>\n",
       "    </tr>\n",
       "  </tbody>\n",
       "</table>\n",
       "<p>61 rows × 4 columns</p>\n",
       "</div>"
      ]
     },
     "execution_count": 37,
     "metadata": {},
     "output_type": "execute_result"
    }
   ],
   "execution_count": 37
  },
  {
   "metadata": {
    "ExecuteTime": {
     "end_time": "2025-04-16T15:11:18.050860Z",
     "start_time": "2025-04-16T15:11:18.048750Z"
    }
   },
   "cell_type": "code",
   "source": [
    "# get a list of all the paths so they can be plotted together in a single graph\n",
    "all_paths = []\n",
    "for i in range(rows):\n",
    "    for j in range(columns):\n",
    "        # get the paths for this location\n",
    "        location_path = []\n",
    "        for mol_id in mol_ids:\n",
    "            this_path = build_path(path, mol_id, i, j)\n",
    "            rendered_path = render_path(this_path)\n",
    "            location_path.append(rendered_path)\n",
    "        all_paths.append(location_path)\n",
    "print(all_paths)"
   ],
   "id": "cb1de1b7c145a94a",
   "outputs": [
    {
     "name": "stdout",
     "output_type": "stream",
     "text": [
      "[['/fields/glucose/0/0', '/fields/acetate/0/0', '/fields/biomass/0/0'], ['/fields/glucose/1/0', '/fields/acetate/1/0', '/fields/biomass/1/0']]\n"
     ]
    }
   ],
   "execution_count": 43
  },
  {
   "metadata": {
    "ExecuteTime": {
     "end_time": "2025-04-16T15:11:19.319079Z",
     "start_time": "2025-04-16T15:11:19.174708Z"
    }
   },
   "cell_type": "code",
   "source": [
    "v2.plot_timeseries(\n",
    "    subplot_size=(8, 3),\n",
    "    combined_vars=all_paths\n",
    ")"
   ],
   "id": "c99171faa7be741a",
   "outputs": [
    {
     "data": {
      "text/plain": [
       "<Figure size 800x600 with 2 Axes>"
      ],
      "image/png": "[encoded data removed]"
     },
     "execution_count": 44,
     "metadata": {},
     "output_type": "execute_result"
    }
   ],
   "execution_count": 44
  },
  {
   "metadata": {
    "ExecuteTime": {
     "end_time": "2025-04-16T15:08:36.154128Z",
     "start_time": "2025-04-16T15:08:36.152860Z"
    }
   },
   "cell_type": "code",
   "source": "",
   "id": "5584c7d665b812f5",
   "outputs": [],
   "execution_count": null
  }
 ],
 "metadata": {
  "kernelspec": {
   "display_name": "Python 3",
   "language": "python",
   "name": "python3"
  },
  "language_info": {
   "codemirror_mode": {
    "name": "ipython",
    "version": 2
   },
   "file_extension": ".py",
   "mimetype": "text/x-python",
   "name": "python",
   "nbconvert_exporter": "python",
   "pygments_lexer": "ipython2",
   "version": "2.7.6"
  }
 },
 "nbformat": 4,
 "nbformat_minor": 5
}
