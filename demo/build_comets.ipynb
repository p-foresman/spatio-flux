{
 "cells": [
  {
   "cell_type": "code",
   "id": "initial_id",
   "metadata": {
    "collapsed": true,
    "ExecuteTime": {
     "end_time": "2025-04-16T12:58:09.444151Z",
     "start_time": "2025-04-16T12:58:08.611309Z"
    }
   },
   "source": [
    "import numpy as np\n",
    "from vivarium import Vivarium\n",
    "from spatio_flux import PROCESS_DICT, TYPES_DICT, build_path, render_path"
   ],
   "outputs": [],
   "execution_count": 1
  },
  {
   "metadata": {
    "ExecuteTime": {
     "end_time": "2025-04-16T12:58:09.455295Z",
     "start_time": "2025-04-16T12:58:09.447080Z"
    }
   },
   "cell_type": "code",
   "source": [
    "# TODO -- make a spatio-flux specific Vivarium with the the core preloaded\n",
    "v = Vivarium(processes=PROCESS_DICT, types=TYPES_DICT)"
   ],
   "id": "66f96b03df1eb3b0",
   "outputs": [],
   "execution_count": 2
  },
  {
   "metadata": {
    "ExecuteTime": {
     "end_time": "2025-04-16T12:58:09.507714Z",
     "start_time": "2025-04-16T12:58:09.503230Z"
    }
   },
   "cell_type": "code",
   "source": "v.get_types()",
   "id": "6da148ba9e2bba1f",
   "outputs": [
    {
     "data": {
      "text/plain": [
       "                      Type\n",
       "0                         \n",
       "1         mass/length*time\n",
       "2                  boolean\n",
       "3       substance/length^3\n",
       "4     length^2*mass/time^2\n",
       "..                     ...\n",
       "97                length^2\n",
       "98              /substance\n",
       "99        current*length^2\n",
       "100              composite\n",
       "101  current*length^2*time\n",
       "\n",
       "[102 rows x 1 columns]"
      ],
      "text/html": [
       "<div>\n",
       "<style scoped>\n",
       "    .dataframe tbody tr th:only-of-type {\n",
       "        vertical-align: middle;\n",
       "    }\n",
       "\n",
       "    .dataframe tbody tr th {\n",
       "        vertical-align: top;\n",
       "    }\n",
       "\n",
       "    .dataframe thead th {\n",
       "        text-align: right;\n",
       "    }\n",
       "</style>\n",
       "<table border=\"1\" class=\"dataframe\">\n",
       "  <thead>\n",
       "    <tr style=\"text-align: right;\">\n",
       "      <th></th>\n",
       "      <th>Type</th>\n",
       "    </tr>\n",
       "  </thead>\n",
       "  <tbody>\n",
       "    <tr>\n",
       "      <th>0</th>\n",
       "      <td></td>\n",
       "    </tr>\n",
       "    <tr>\n",
       "      <th>1</th>\n",
       "      <td>mass/length*time</td>\n",
       "    </tr>\n",
       "    <tr>\n",
       "      <th>2</th>\n",
       "      <td>boolean</td>\n",
       "    </tr>\n",
       "    <tr>\n",
       "      <th>3</th>\n",
       "      <td>substance/length^3</td>\n",
       "    </tr>\n",
       "    <tr>\n",
       "      <th>4</th>\n",
       "      <td>length^2*mass/time^2</td>\n",
       "    </tr>\n",
       "    <tr>\n",
       "      <th>...</th>\n",
       "      <td>...</td>\n",
       "    </tr>\n",
       "    <tr>\n",
       "      <th>97</th>\n",
       "      <td>length^2</td>\n",
       "    </tr>\n",
       "    <tr>\n",
       "      <th>98</th>\n",
       "      <td>/substance</td>\n",
       "    </tr>\n",
       "    <tr>\n",
       "      <th>99</th>\n",
       "      <td>current*length^2</td>\n",
       "    </tr>\n",
       "    <tr>\n",
       "      <th>100</th>\n",
       "      <td>composite</td>\n",
       "    </tr>\n",
       "    <tr>\n",
       "      <th>101</th>\n",
       "      <td>current*length^2*time</td>\n",
       "    </tr>\n",
       "  </tbody>\n",
       "</table>\n",
       "<p>102 rows × 1 columns</p>\n",
       "</div>"
      ]
     },
     "execution_count": 3,
     "metadata": {},
     "output_type": "execute_result"
    }
   ],
   "execution_count": 3
  },
  {
   "metadata": {
    "ExecuteTime": {
     "end_time": "2025-04-16T12:58:09.527086Z",
     "start_time": "2025-04-16T12:58:09.524525Z"
    }
   },
   "cell_type": "code",
   "source": [
    "# view the available processes\n",
    "v.get_processes()"
   ],
   "id": "aaa56a31b99950ad",
   "outputs": [
    {
     "data": {
      "text/plain": [
       "              Process\n",
       "0  DiffusionAdvection\n",
       "1        json-emitter\n",
       "2     MinimalParticle\n",
       "3         ram-emitter\n",
       "4          DynamicFBA\n",
       "5     console-emitter\n",
       "6           composite\n",
       "7           Particles"
      ],
      "text/html": [
       "<div>\n",
       "<style scoped>\n",
       "    .dataframe tbody tr th:only-of-type {\n",
       "        vertical-align: middle;\n",
       "    }\n",
       "\n",
       "    .dataframe tbody tr th {\n",
       "        vertical-align: top;\n",
       "    }\n",
       "\n",
       "    .dataframe thead th {\n",
       "        text-align: right;\n",
       "    }\n",
       "</style>\n",
       "<table border=\"1\" class=\"dataframe\">\n",
       "  <thead>\n",
       "    <tr style=\"text-align: right;\">\n",
       "      <th></th>\n",
       "      <th>Process</th>\n",
       "    </tr>\n",
       "  </thead>\n",
       "  <tbody>\n",
       "    <tr>\n",
       "      <th>0</th>\n",
       "      <td>DiffusionAdvection</td>\n",
       "    </tr>\n",
       "    <tr>\n",
       "      <th>1</th>\n",
       "      <td>json-emitter</td>\n",
       "    </tr>\n",
       "    <tr>\n",
       "      <th>2</th>\n",
       "      <td>MinimalParticle</td>\n",
       "    </tr>\n",
       "    <tr>\n",
       "      <th>3</th>\n",
       "      <td>ram-emitter</td>\n",
       "    </tr>\n",
       "    <tr>\n",
       "      <th>4</th>\n",
       "      <td>DynamicFBA</td>\n",
       "    </tr>\n",
       "    <tr>\n",
       "      <th>5</th>\n",
       "      <td>console-emitter</td>\n",
       "    </tr>\n",
       "    <tr>\n",
       "      <th>6</th>\n",
       "      <td>composite</td>\n",
       "    </tr>\n",
       "    <tr>\n",
       "      <th>7</th>\n",
       "      <td>Particles</td>\n",
       "    </tr>\n",
       "  </tbody>\n",
       "</table>\n",
       "</div>"
      ]
     },
     "execution_count": 4,
     "metadata": {},
     "output_type": "execute_result"
    }
   ],
   "execution_count": 4
  },
  {
   "metadata": {},
   "cell_type": "markdown",
   "source": "## dFBA alone",
   "id": "9cb058a2cfce5404"
  },
  {
   "metadata": {
    "ExecuteTime": {
     "end_time": "2025-04-16T12:58:09.551054Z",
     "start_time": "2025-04-16T12:58:09.549175Z"
    }
   },
   "cell_type": "code",
   "source": [
    "# inspect the config schema for the 'increase' process\n",
    "v.process_schema('DynamicFBA')"
   ],
   "id": "3b09457fe1bd1693",
   "outputs": [
    {
     "data": {
      "text/plain": [
       "'(model_file:string|kinetic_params:map[tuple[float,float]]|substrate_update_reactions:map[string]|biomass_identifier:string|bounds:map[bounds])'"
      ]
     },
     "execution_count": 5,
     "metadata": {},
     "output_type": "execute_result"
    }
   ],
   "execution_count": 5
  },
  {
   "metadata": {
    "ExecuteTime": {
     "end_time": "2025-04-16T12:58:09.578407Z",
     "start_time": "2025-04-16T12:58:09.576677Z"
    }
   },
   "cell_type": "code",
   "source": [
    "# TODO - enable get_dataclass to work with the new process\n",
    "# dfba_config  = v.get_dataclass('DynamicFBA')\n",
    "dfba_config = {\n",
    "    \"model_file\": \"textbook\",\n",
    "    \"kinetic_params\": {\n",
    "        \"glucose\": (0.5, 1),\n",
    "        \"acetate\": (0.5, 2)},\n",
    "    \"substrate_update_reactions\": {\n",
    "        \"glucose\": \"EX_glc__D_e\",\n",
    "        \"acetate\": \"EX_ac_e\"},\n",
    "    \"biomass_identifier\": \"biomass\",\n",
    "    \"bounds\": {\n",
    "        \"EX_o2_e\": {\"lower\": -2, \"upper\": None},\n",
    "        \"ATPM\": {\"lower\": 1, \"upper\": 1}\n",
    "    }\n",
    "}"
   ],
   "id": "22e0d7390501d00f",
   "outputs": [],
   "execution_count": 6
  },
  {
   "metadata": {
    "ExecuteTime": {
     "end_time": "2025-04-16T12:58:09.663793Z",
     "start_time": "2025-04-16T12:58:09.593348Z"
    }
   },
   "cell_type": "code",
   "source": [
    "# add a dynamic FBA process called 'dFBA'\n",
    "v.add_process(name=\"dFBA\",\n",
    "              process_id=\"DynamicFBA\",\n",
    "              config=dfba_config,\n",
    "              )\n",
    "v.diagram(dpi='70')"
   ],
   "id": "25737cdd3ed3d5d2",
   "outputs": [
    {
     "data": {
      "image/svg+xml": "<?xml version=\"1.0\" encoding=\"UTF-8\" standalone=\"no\"?>\n<!DOCTYPE svg PUBLIC \"-//W3C//DTD SVG 1.1//EN\"\n \"http://www.w3.org/Graphics/SVG/1.1/DTD/svg11.dtd\">\n<!-- Generated by graphviz version 9.0.0 (0)\n -->\n<!-- Title: bigraph Pages: 1 -->\n<svg width=\"194pt\" height=\"162pt\"\n viewBox=\"0.00 0.00 199.58 166.28\" xmlns=\"http://www.w3.org/2000/svg\" xmlns:xlink=\"http://www.w3.org/1999/xlink\">\n<g id=\"graph0\" class=\"graph\" transform=\"scale(0.972222 0.972222) rotate(0) translate(4 162.28)\">\n<title>bigraph</title>\n<polygon fill=\"white\" stroke=\"none\" points=\"-4,4 -4,-162.28 195.58,-162.28 195.58,4 -4,4\"/>\n<!-- (&#39;global_time&#39;,) -->\n<g id=\"node1\" class=\"node\">\n<title>(&#39;global_time&#39;,)</title>\n<ellipse fill=\"none\" stroke=\"black\" stroke-width=\"2\" cx=\"38.14\" cy=\"-120.14\" rx=\"38.14\" ry=\"38.14\"/>\n<text text-anchor=\"start\" x=\"9.48\" y=\"-116.54\" font-family=\"Times,serif\" font-size=\"12.00\">global_time</text>\n</g>\n<!-- (&#39;dFBA&#39;,) -->\n<g id=\"node2\" class=\"node\">\n<title>(&#39;dFBA&#39;,)</title>\n<polygon fill=\"none\" stroke=\"black\" stroke-width=\"2\" points=\"166.14,-36 112.14,-36 112.14,0 166.14,0 166.14,-36\"/>\n<text text-anchor=\"start\" x=\"124.47\" y=\"-14.4\" font-family=\"Times,serif\" font-size=\"12.00\">dFBA</text>\n</g>\n<!-- (&#39;dFBA&#39;, &#39;s&#39;, &#39;u&#39;, &#39;b&#39;, &#39;s&#39;, &#39;t&#39;, &#39;r&#39;, &#39;a&#39;, &#39;t&#39;, &#39;e&#39;, &#39;s&#39;)_input -->\n<!-- (&#39;dFBA&#39;, &#39;s&#39;, &#39;u&#39;, &#39;b&#39;, &#39;s&#39;, &#39;t&#39;, &#39;r&#39;, &#39;a&#39;, &#39;t&#39;, &#39;e&#39;, &#39;s&#39;)_input&#45;&gt;(&#39;dFBA&#39;,) -->\n<g id=\"edge1\" class=\"edge\">\n<title>(&#39;dFBA&#39;, &#39;s&#39;, &#39;u&#39;, &#39;b&#39;, &#39;s&#39;, &#39;t&#39;, &#39;r&#39;, &#39;a&#39;, &#39;t&#39;, &#39;e&#39;, &#39;s&#39;)_input&#45;&gt;(&#39;dFBA&#39;,)</title>\n<path fill=\"none\" stroke=\"black\" stroke-dasharray=\"5,2\" d=\"M105.68,-106.17C103.71,-92.67 102.21,-71.13 108.7,-54 109.72,-51.3 111.06,-48.67 112.6,-46.14\"/>\n<polygon fill=\"black\" stroke=\"black\" points=\"115.33,-48.33 118.42,-38.19 109.68,-44.19 115.33,-48.33\"/>\n<text text-anchor=\"start\" x=\"108.14\" y=\"-56\" font-family=\"Times,serif\" font-size=\"10.00\">substrates</text>\n</g>\n<!-- (&#39;dFBA&#39;, &#39;s&#39;, &#39;u&#39;, &#39;b&#39;, &#39;s&#39;, &#39;t&#39;, &#39;r&#39;, &#39;a&#39;, &#39;t&#39;, &#39;e&#39;, &#39;s&#39;)_output -->\n<!-- (&#39;dFBA&#39;, &#39;s&#39;, &#39;u&#39;, &#39;b&#39;, &#39;s&#39;, &#39;t&#39;, &#39;r&#39;, &#39;a&#39;, &#39;t&#39;, &#39;e&#39;, &#39;s&#39;)_output&#45;&gt;(&#39;dFBA&#39;,) -->\n<g id=\"edge2\" class=\"edge\">\n<title>(&#39;dFBA&#39;, &#39;s&#39;, &#39;u&#39;, &#39;b&#39;, &#39;s&#39;, &#39;t&#39;, &#39;r&#39;, &#39;a&#39;, &#39;t&#39;, &#39;e&#39;, &#39;s&#39;)_output&#45;&gt;(&#39;dFBA&#39;,)</title>\n<path fill=\"none\" stroke=\"black\" stroke-dasharray=\"5,2\" d=\"M162.82,-95.49C157.27,-77.58 149.77,-53.34 144.71,-36.99\"/>\n<polygon fill=\"black\" stroke=\"black\" points=\"159.46,-96.49 165.76,-105.01 166.15,-94.42 159.46,-96.49\"/>\n<text text-anchor=\"start\" x=\"152.14\" y=\"-56\" font-family=\"Times,serif\" font-size=\"10.00\">substrates</text>\n</g>\n</g>\n</svg>\n",
      "text/plain": [
       "<graphviz.graphs.Digraph at 0x129405a10>"
      ]
     },
     "execution_count": 7,
     "metadata": {},
     "output_type": "execute_result"
    }
   ],
   "execution_count": 7
  },
  {
   "metadata": {
    "ExecuteTime": {
     "end_time": "2025-04-16T12:58:09.747397Z",
     "start_time": "2025-04-16T12:58:09.678121Z"
    }
   },
   "cell_type": "code",
   "source": [
    "mol_ids = [\"glucose\", \"acetate\", \"biomass\"]\n",
    "path=[\"fields\"]\n",
    "i = 0\n",
    "j = 0\n",
    "\n",
    "# for mol_id in mol_ids:\n",
    "#     v.add_object(\n",
    "#         name=mol_id,\n",
    "#         path=path,\n",
    "#         # type='array',\n",
    "#         value=np.random.rand()\n",
    "#     )\n",
    "\n",
    "v.connect_process(\n",
    "    process_name=\"dFBA\",\n",
    "    inputs={\n",
    "            \"substrates\": {\n",
    "                mol_id: build_path(path, mol_id, i, j)\n",
    "                for mol_id in mol_ids}\n",
    "        },\n",
    "    outputs={\n",
    "            \"substrates\": {\n",
    "                mol_id: build_path(path, mol_id, i, j)\n",
    "                for mol_id in mol_ids}\n",
    "        }\n",
    ")\n",
    "\n",
    "# add an emitter to save results\n",
    "v.add_emitter()\n",
    "\n",
    "# TODO -- show_values does not work\n",
    "v.diagram(dpi='70', show_values=True)"
   ],
   "id": "7229543edc8a0969",
   "outputs": [
    {
     "data": {
      "image/svg+xml": "<?xml version=\"1.0\" encoding=\"UTF-8\" standalone=\"no\"?>\n<!DOCTYPE svg PUBLIC \"-//W3C//DTD SVG 1.1//EN\"\n \"http://www.w3.org/Graphics/SVG/1.1/DTD/svg11.dtd\">\n<!-- Generated by graphviz version 9.0.0 (0)\n -->\n<!-- Title: bigraph Pages: 1 -->\n<svg width=\"504pt\" height=\"402pt\"\n viewBox=\"0.00 0.00 518.80 413.29\" xmlns=\"http://www.w3.org/2000/svg\" xmlns:xlink=\"http://www.w3.org/1999/xlink\">\n<g id=\"graph0\" class=\"graph\" transform=\"scale(0.972222 0.972222) rotate(0) translate(4 409.29)\">\n<title>bigraph</title>\n<polygon fill=\"white\" stroke=\"none\" points=\"-4,4 -4,-409.29 514.8,-409.29 514.8,4 -4,4\"/>\n<!-- (&#39;global_time&#39;,) -->\n<g id=\"node1\" class=\"node\">\n<title>(&#39;global_time&#39;,)</title>\n<ellipse fill=\"none\" stroke=\"black\" stroke-width=\"2\" cx=\"71.8\" cy=\"-367.15\" rx=\"38.14\" ry=\"38.14\"/>\n<text text-anchor=\"start\" x=\"43.14\" y=\"-363.55\" font-family=\"Times,serif\" font-size=\"12.00\">global_time</text>\n</g>\n<!-- (&#39;emitter&#39;,) -->\n<g id=\"node13\" class=\"node\">\n<title>(&#39;emitter&#39;,)</title>\n<polygon fill=\"none\" stroke=\"black\" stroke-width=\"2\" points=\"98.8,-273.51 44.8,-273.51 44.8,-237.51 98.8,-237.51 98.8,-273.51\"/>\n<text text-anchor=\"start\" x=\"54.81\" y=\"-251.91\" font-family=\"Times,serif\" font-size=\"12.00\">emitter</text>\n</g>\n<!-- (&#39;global_time&#39;,)&#45;&gt;(&#39;emitter&#39;,) -->\n<g id=\"edge13\" class=\"edge\">\n<title>(&#39;global_time&#39;,)&#45;&gt;(&#39;emitter&#39;,)</title>\n<path fill=\"none\" stroke=\"black\" stroke-dasharray=\"5,2\" d=\"M71.8,-328.11C71.8,-314.19 71.8,-298.67 71.8,-285.64\"/>\n<polygon fill=\"black\" stroke=\"black\" points=\"75.3,-286.02 71.8,-276.02 68.3,-286.02 75.3,-286.02\"/>\n<text text-anchor=\"start\" x=\"71.8\" y=\"-303.01\" font-family=\"Times,serif\" font-size=\"10.00\">global_time</text>\n</g>\n<!-- (&#39;fields&#39;,) -->\n<g id=\"node2\" class=\"node\">\n<title>(&#39;fields&#39;,)</title>\n<ellipse fill=\"none\" stroke=\"black\" stroke-width=\"2\" cx=\"196.8\" cy=\"-367.15\" rx=\"19.63\" ry=\"19.63\"/>\n<text text-anchor=\"start\" x=\"183.8\" y=\"-363.55\" font-family=\"Times,serif\" font-size=\"12.00\">fields</text>\n</g>\n<!-- (&#39;fields&#39;, &#39;glucose&#39;) -->\n<g id=\"node3\" class=\"node\">\n<title>(&#39;fields&#39;, &#39;glucose&#39;)</title>\n<ellipse fill=\"none\" stroke=\"black\" stroke-width=\"2\" cx=\"142.8\" cy=\"-255.51\" rx=\"25.92\" ry=\"25.92\"/>\n<text text-anchor=\"start\" x=\"124.48\" y=\"-251.91\" font-family=\"Times,serif\" font-size=\"12.00\">glucose</text>\n</g>\n<!-- (&#39;fields&#39;,)&#45;&gt;(&#39;fields&#39;, &#39;glucose&#39;) -->\n<g id=\"edge1\" class=\"edge\">\n<title>(&#39;fields&#39;,)&#45;&gt;(&#39;fields&#39;, &#39;glucose&#39;)</title>\n<path fill=\"none\" stroke=\"black\" stroke-width=\"2\" d=\"M190.08,-347.85C185.01,-334.6 177.61,-316.41 169.8,-301.01 165.96,-293.43 161.3,-285.42 156.94,-278.31\"/>\n</g>\n<!-- (&#39;fields&#39;, &#39;acetate&#39;) -->\n<g id=\"node6\" class=\"node\">\n<title>(&#39;fields&#39;, &#39;acetate&#39;)</title>\n<ellipse fill=\"none\" stroke=\"black\" stroke-width=\"2\" cx=\"210.8\" cy=\"-255.51\" rx=\"23.94\" ry=\"23.94\"/>\n<text text-anchor=\"start\" x=\"194.15\" y=\"-251.91\" font-family=\"Times,serif\" font-size=\"12.00\">acetate</text>\n</g>\n<!-- (&#39;fields&#39;,)&#45;&gt;(&#39;fields&#39;, &#39;acetate&#39;) -->\n<g id=\"edge4\" class=\"edge\">\n<title>(&#39;fields&#39;,)&#45;&gt;(&#39;fields&#39;, &#39;acetate&#39;)</title>\n<path fill=\"none\" stroke=\"black\" stroke-width=\"2\" d=\"M199.27,-346.8C201.64,-328.23 205.23,-300.15 207.77,-280.24\"/>\n</g>\n<!-- (&#39;fields&#39;, &#39;biomass&#39;) -->\n<g id=\"node9\" class=\"node\">\n<title>(&#39;fields&#39;, &#39;biomass&#39;)</title>\n<ellipse fill=\"none\" stroke=\"black\" stroke-width=\"2\" cx=\"308.8\" cy=\"-255.51\" rx=\"27.51\" ry=\"27.51\"/>\n<text text-anchor=\"start\" x=\"289.14\" y=\"-251.91\" font-family=\"Times,serif\" font-size=\"12.00\">biomass</text>\n</g>\n<!-- (&#39;fields&#39;,)&#45;&gt;(&#39;fields&#39;, &#39;biomass&#39;) -->\n<g id=\"edge7\" class=\"edge\">\n<title>(&#39;fields&#39;,)&#45;&gt;(&#39;fields&#39;, &#39;biomass&#39;)</title>\n<path fill=\"none\" stroke=\"black\" stroke-width=\"2\" d=\"M210.99,-352.26C230.77,-332.9 266.71,-297.71 289.09,-275.81\"/>\n</g>\n<!-- (&#39;fields&#39;,)&#45;&gt;(&#39;emitter&#39;,) -->\n<g id=\"edge14\" class=\"edge\">\n<title>(&#39;fields&#39;,)&#45;&gt;(&#39;emitter&#39;,)</title>\n<path fill=\"none\" stroke=\"black\" stroke-dasharray=\"5,2\" d=\"M182.06,-352.83C167.37,-339.61 144.14,-318.78 123.8,-301.01 116.54,-294.66 108.65,-287.86 101.26,-281.53\"/>\n<polygon fill=\"black\" stroke=\"black\" points=\"103.92,-279.2 94.04,-275.36 99.37,-284.52 103.92,-279.2\"/>\n<text text-anchor=\"start\" x=\"134.8\" y=\"-303.01\" font-family=\"Times,serif\" font-size=\"10.00\">fields</text>\n</g>\n<!-- (&#39;fields&#39;, &#39;glucose&#39;, 0) -->\n<g id=\"node4\" class=\"node\">\n<title>(&#39;fields&#39;, &#39;glucose&#39;, 0)</title>\n<ellipse fill=\"none\" stroke=\"black\" stroke-width=\"2\" cx=\"132.8\" cy=\"-173\" rx=\"18\" ry=\"18\"/>\n<text text-anchor=\"start\" x=\"129.8\" y=\"-169.4\" font-family=\"Times,serif\" font-size=\"12.00\">0</text>\n</g>\n<!-- (&#39;fields&#39;, &#39;glucose&#39;)&#45;&gt;(&#39;fields&#39;, &#39;glucose&#39;, 0) -->\n<g id=\"edge2\" class=\"edge\">\n<title>(&#39;fields&#39;, &#39;glucose&#39;)&#45;&gt;(&#39;fields&#39;, &#39;glucose&#39;, 0)</title>\n<path fill=\"none\" stroke=\"black\" stroke-width=\"2\" d=\"M139.64,-229.03C138.13,-216.87 136.36,-202.62 135,-191.67\"/>\n</g>\n<!-- (&#39;fields&#39;, &#39;glucose&#39;, 0, 0) -->\n<g id=\"node5\" class=\"node\">\n<title>(&#39;fields&#39;, &#39;glucose&#39;, 0, 0)</title>\n<ellipse fill=\"none\" stroke=\"black\" stroke-width=\"2\" cx=\"99.8\" cy=\"-100\" rx=\"18\" ry=\"18\"/>\n<text text-anchor=\"start\" x=\"96.8\" y=\"-96.4\" font-family=\"Times,serif\" font-size=\"12.00\">0</text>\n</g>\n<!-- (&#39;fields&#39;, &#39;glucose&#39;, 0)&#45;&gt;(&#39;fields&#39;, &#39;glucose&#39;, 0, 0) -->\n<g id=\"edge3\" class=\"edge\">\n<title>(&#39;fields&#39;, &#39;glucose&#39;, 0)&#45;&gt;(&#39;fields&#39;, &#39;glucose&#39;, 0, 0)</title>\n<path fill=\"none\" stroke=\"black\" stroke-width=\"2\" d=\"M125.32,-155.89C119.91,-144.27 112.66,-128.65 107.26,-117.05\"/>\n</g>\n<!-- (&#39;dFBA&#39;,) -->\n<g id=\"node12\" class=\"node\">\n<title>(&#39;dFBA&#39;,)</title>\n<polygon fill=\"none\" stroke=\"black\" stroke-width=\"2\" points=\"268.8,-36 214.8,-36 214.8,0 268.8,0 268.8,-36\"/>\n<text text-anchor=\"start\" x=\"227.13\" y=\"-14.4\" font-family=\"Times,serif\" font-size=\"12.00\">dFBA</text>\n</g>\n<!-- (&#39;fields&#39;, &#39;glucose&#39;, 0, 0)&#45;&gt;(&#39;dFBA&#39;,) -->\n<g id=\"edge10\" class=\"edge\">\n<title>(&#39;fields&#39;, &#39;glucose&#39;, 0, 0)&#45;&gt;(&#39;dFBA&#39;,)</title>\n<path fill=\"none\" stroke=\"black\" stroke-dasharray=\"5,2\" d=\"M81.24,-97C47.6,-92.67 -17.93,-80.61 5.04,-54 30.11,-24.95 142.24,-19.6 202.76,-18.87\"/>\n<polygon fill=\"black\" stroke=\"black\" points=\"202.65,-22.37 212.62,-18.79 202.59,-15.37 202.65,-22.37\"/>\n<text text-anchor=\"start\" x=\"5.8\" y=\"-56\" font-family=\"Times,serif\" font-size=\"10.00\">substrates/glucose</text>\n</g>\n<!-- (&#39;fields&#39;, &#39;glucose&#39;, 0, 0)&#45;&gt;(&#39;dFBA&#39;,) -->\n<g id=\"edge15\" class=\"edge\">\n<title>(&#39;fields&#39;, &#39;glucose&#39;, 0, 0)&#45;&gt;(&#39;dFBA&#39;,)</title>\n<path fill=\"none\" stroke=\"black\" stroke-dasharray=\"5,2\" d=\"M106.62,-70.99C109.29,-64.69 112.97,-58.54 118.04,-54 144.65,-30.16 186.34,-22.45 213.87,-20.02\"/>\n<polygon fill=\"black\" stroke=\"black\" points=\"103.45,-69.43 103.51,-80.03 110.07,-71.71 103.45,-69.43\"/>\n<text text-anchor=\"start\" x=\"118.8\" y=\"-56\" font-family=\"Times,serif\" font-size=\"10.00\">substrates/glucose</text>\n</g>\n<!-- (&#39;fields&#39;, &#39;acetate&#39;, 0) -->\n<g id=\"node7\" class=\"node\">\n<title>(&#39;fields&#39;, &#39;acetate&#39;, 0)</title>\n<ellipse fill=\"none\" stroke=\"black\" stroke-width=\"2\" cx=\"210.8\" cy=\"-173\" rx=\"18\" ry=\"18\"/>\n<text text-anchor=\"start\" x=\"207.8\" y=\"-169.4\" font-family=\"Times,serif\" font-size=\"12.00\">0</text>\n</g>\n<!-- (&#39;fields&#39;, &#39;acetate&#39;)&#45;&gt;(&#39;fields&#39;, &#39;acetate&#39;, 0) -->\n<g id=\"edge5\" class=\"edge\">\n<title>(&#39;fields&#39;, &#39;acetate&#39;)&#45;&gt;(&#39;fields&#39;, &#39;acetate&#39;, 0)</title>\n<path fill=\"none\" stroke=\"black\" stroke-width=\"2\" d=\"M210.8,-230.79C210.8,-218.36 210.8,-203.38 210.8,-191.93\"/>\n</g>\n<!-- (&#39;fields&#39;, &#39;acetate&#39;, 0, 0) -->\n<g id=\"node8\" class=\"node\">\n<title>(&#39;fields&#39;, &#39;acetate&#39;, 0, 0)</title>\n<ellipse fill=\"none\" stroke=\"black\" stroke-width=\"2\" cx=\"210.8\" cy=\"-100\" rx=\"18\" ry=\"18\"/>\n<text text-anchor=\"start\" x=\"207.8\" y=\"-96.4\" font-family=\"Times,serif\" font-size=\"12.00\">0</text>\n</g>\n<!-- (&#39;fields&#39;, &#39;acetate&#39;, 0)&#45;&gt;(&#39;fields&#39;, &#39;acetate&#39;, 0, 0) -->\n<g id=\"edge6\" class=\"edge\">\n<title>(&#39;fields&#39;, &#39;acetate&#39;, 0)&#45;&gt;(&#39;fields&#39;, &#39;acetate&#39;, 0, 0)</title>\n<path fill=\"none\" stroke=\"black\" stroke-width=\"2\" d=\"M210.8,-154.08C210.8,-143.24 210.8,-129.46 210.8,-118.66\"/>\n</g>\n<!-- (&#39;fields&#39;, &#39;acetate&#39;, 0, 0)&#45;&gt;(&#39;dFBA&#39;,) -->\n<g id=\"edge11\" class=\"edge\">\n<title>(&#39;fields&#39;, &#39;acetate&#39;, 0, 0)&#45;&gt;(&#39;dFBA&#39;,)</title>\n<path fill=\"none\" stroke=\"black\" stroke-dasharray=\"5,2\" d=\"M200.81,-84.38C195.96,-75.36 192.1,-63.7 196.84,-54 199.05,-49.48 202.16,-45.37 205.72,-41.69\"/>\n<polygon fill=\"black\" stroke=\"black\" points=\"207.74,-44.57 212.93,-35.33 203.11,-39.32 207.74,-44.57\"/>\n<text text-anchor=\"start\" x=\"197.8\" y=\"-56\" font-family=\"Times,serif\" font-size=\"10.00\">substrates/acetate</text>\n</g>\n<!-- (&#39;fields&#39;, &#39;acetate&#39;, 0, 0)&#45;&gt;(&#39;dFBA&#39;,) -->\n<g id=\"edge16\" class=\"edge\">\n<title>(&#39;fields&#39;, &#39;acetate&#39;, 0, 0)&#45;&gt;(&#39;dFBA&#39;,)</title>\n<path fill=\"none\" stroke=\"black\" stroke-dasharray=\"5,2\" d=\"M238.85,-88.52C249.59,-82.97 260.72,-74.98 266.8,-64 271.74,-55.09 267.33,-45.19 260.91,-36.95\"/>\n<polygon fill=\"black\" stroke=\"black\" points=\"237.46,-85.31 229.82,-92.65 240.37,-91.68 237.46,-85.31\"/>\n<text text-anchor=\"start\" x=\"268.8\" y=\"-56\" font-family=\"Times,serif\" font-size=\"10.00\">substrates/acetate</text>\n</g>\n<!-- (&#39;fields&#39;, &#39;biomass&#39;, 0) -->\n<g id=\"node10\" class=\"node\">\n<title>(&#39;fields&#39;, &#39;biomass&#39;, 0)</title>\n<ellipse fill=\"none\" stroke=\"black\" stroke-width=\"2\" cx=\"316.8\" cy=\"-173\" rx=\"18\" ry=\"18\"/>\n<text text-anchor=\"start\" x=\"313.8\" y=\"-169.4\" font-family=\"Times,serif\" font-size=\"12.00\">0</text>\n</g>\n<!-- (&#39;fields&#39;, &#39;biomass&#39;)&#45;&gt;(&#39;fields&#39;, &#39;biomass&#39;, 0) -->\n<g id=\"edge8\" class=\"edge\">\n<title>(&#39;fields&#39;, &#39;biomass&#39;)&#45;&gt;(&#39;fields&#39;, &#39;biomass&#39;, 0)</title>\n<path fill=\"none\" stroke=\"black\" stroke-width=\"2\" d=\"M311.51,-227.25C312.67,-215.57 314,-202.26 315.03,-191.87\"/>\n</g>\n<!-- (&#39;fields&#39;, &#39;biomass&#39;, 0, 0) -->\n<g id=\"node11\" class=\"node\">\n<title>(&#39;fields&#39;, &#39;biomass&#39;, 0, 0)</title>\n<ellipse fill=\"none\" stroke=\"black\" stroke-width=\"2\" cx=\"381.8\" cy=\"-100\" rx=\"18\" ry=\"18\"/>\n<text text-anchor=\"start\" x=\"378.8\" y=\"-96.4\" font-family=\"Times,serif\" font-size=\"12.00\">0</text>\n</g>\n<!-- (&#39;fields&#39;, &#39;biomass&#39;, 0)&#45;&gt;(&#39;fields&#39;, &#39;biomass&#39;, 0, 0) -->\n<g id=\"edge9\" class=\"edge\">\n<title>(&#39;fields&#39;, &#39;biomass&#39;, 0)&#45;&gt;(&#39;fields&#39;, &#39;biomass&#39;, 0, 0)</title>\n<path fill=\"none\" stroke=\"black\" stroke-width=\"2\" d=\"M329.03,-158.65C340.65,-145.95 358.03,-126.97 369.63,-114.29\"/>\n</g>\n<!-- (&#39;fields&#39;, &#39;biomass&#39;, 0, 0)&#45;&gt;(&#39;dFBA&#39;,) -->\n<g id=\"edge12\" class=\"edge\">\n<title>(&#39;fields&#39;, &#39;biomass&#39;, 0, 0)&#45;&gt;(&#39;dFBA&#39;,)</title>\n<path fill=\"none\" stroke=\"black\" stroke-dasharray=\"5,2\" d=\"M372.11,-84.23C365.03,-74.45 354.62,-62 342.8,-54 324.18,-41.39 300.55,-32.87 280.83,-27.4\"/>\n<polygon fill=\"black\" stroke=\"black\" points=\"281.76,-24.03 271.2,-24.91 280,-30.8 281.76,-24.03\"/>\n<text text-anchor=\"start\" x=\"353.8\" y=\"-56\" font-family=\"Times,serif\" font-size=\"10.00\">substrates/biomass</text>\n</g>\n<!-- (&#39;fields&#39;, &#39;biomass&#39;, 0, 0)&#45;&gt;(&#39;dFBA&#39;,) -->\n<g id=\"edge17\" class=\"edge\">\n<title>(&#39;fields&#39;, &#39;biomass&#39;, 0, 0)&#45;&gt;(&#39;dFBA&#39;,)</title>\n<path fill=\"none\" stroke=\"black\" stroke-dasharray=\"5,2\" d=\"M409.66,-87.77C426.77,-79.25 443.51,-66.85 432.8,-54 412.35,-29.46 317.52,-22.07 269.63,-19.89\"/>\n<polygon fill=\"black\" stroke=\"black\" points=\"408.23,-84.58 400.59,-91.91 411.14,-90.94 408.23,-84.58\"/>\n<text text-anchor=\"start\" x=\"435.8\" y=\"-56\" font-family=\"Times,serif\" font-size=\"10.00\">substrates/biomass</text>\n</g>\n</g>\n</svg>\n",
      "text/plain": [
       "<graphviz.graphs.Digraph at 0x129116050>"
      ]
     },
     "execution_count": 8,
     "metadata": {},
     "output_type": "execute_result"
    }
   ],
   "execution_count": 8
  },
  {
   "metadata": {
    "ExecuteTime": {
     "end_time": "2025-04-16T12:58:09.760230Z",
     "start_time": "2025-04-16T12:58:09.751508Z"
    }
   },
   "cell_type": "code",
   "source": [
    "v.set_value(path = ['fields', 'glucose', 0, 0], value=10)\n",
    "v.set_value(path = ['fields', 'biomass', 0, 0], value=0.1)\n",
    "field = v.get_value(['fields'])\n",
    "print(field)"
   ],
   "id": "6d6a1b3508f477e0",
   "outputs": [
    {
     "name": "stdout",
     "output_type": "stream",
     "text": [
      "{'glucose': {0: {0: 10}}, 'acetate': {0: {0: 0.0}}, 'biomass': {0: {0: 0.1}}}\n"
     ]
    }
   ],
   "execution_count": 9
  },
  {
   "metadata": {
    "ExecuteTime": {
     "end_time": "2025-04-16T12:58:09.812646Z",
     "start_time": "2025-04-16T12:58:09.764439Z"
    }
   },
   "cell_type": "code",
   "source": [
    "# run the simulation for 10 time units\n",
    "v.run(interval=60)"
   ],
   "id": "9a7c8befcc1c0139",
   "outputs": [],
   "execution_count": 10
  },
  {
   "metadata": {
    "ExecuteTime": {
     "end_time": "2025-04-16T12:58:09.873101Z",
     "start_time": "2025-04-16T12:58:09.817226Z"
    }
   },
   "cell_type": "code",
   "source": [
    "v.plot_timeseries(\n",
    "    subplot_size=(8, 3),\n",
    "    combined_vars=[\n",
    "        [\n",
    "            '/fields/glucose/0/0',\n",
    "            '/fields/acetate/0/0',\n",
    "            '/fields/biomass/0/0'\n",
    "        ]\n",
    "    ]\n",
    ")"
   ],
   "id": "cc668cc073e83bf3",
   "outputs": [
    {
     "data": {
      "text/plain": [
       "<Figure size 800x300 with 1 Axes>"
      ],
      "image/png": "[encoded data removed]"
     },
     "execution_count": 11,
     "metadata": {},
     "output_type": "execute_result"
    }
   ],
   "execution_count": 11
  },
  {
   "metadata": {},
   "cell_type": "markdown",
   "source": "## Spatial Dynamic FBA",
   "id": "76cd24ec882941b2"
  },
  {
   "metadata": {
    "ExecuteTime": {
     "end_time": "2025-04-16T12:58:09.961457Z",
     "start_time": "2025-04-16T12:58:09.877376Z"
    }
   },
   "cell_type": "code",
   "source": [
    "mol_ids = [\"glucose\", \"acetate\", \"biomass\"]\n",
    "path=[\"fields\"]\n",
    "rows = 1\n",
    "columns = 1\n",
    "\n",
    "# make the vivarium\n",
    "v2 = Vivarium(processes=PROCESS_DICT, types=TYPES_DICT)\n",
    "# for mol_id in mol_ids:\n",
    "#     v2.add_object(\n",
    "#         name=mol_id,\n",
    "#         path=path,\n",
    "#         type='array',\n",
    "#         value=np.random.rand(rows, columns)\n",
    "#     )\n",
    "\n",
    "# add a dynamic FBA process at every location\n",
    "for i in range(rows):\n",
    "    for j in range(columns):\n",
    "        dfba_name = f\"dFBA[{i},{j}]\"\n",
    "        path_name = build_path(path, 'mol_id', i, j)\n",
    "        print(f'Adding {dfba_name} to {path_name}\\n')\n",
    "\n",
    "        rewire_path= path  # [\"..\"] + path\n",
    "\n",
    "        # add a process for this location\n",
    "        v2.add_process(\n",
    "            name=dfba_name,\n",
    "            process_id=\"DynamicFBA\",\n",
    "            # path=['species'],\n",
    "            config=dfba_config,\n",
    "        )\n",
    "        v2.connect_process(\n",
    "            process_name=dfba_name,\n",
    "            # path=['species'],\n",
    "            inputs={\n",
    "                    \"substrates\": {\n",
    "                        mol_id: build_path(rewire_path, mol_id, i, j)\n",
    "                        for mol_id in mol_ids}\n",
    "                },\n",
    "            outputs={\n",
    "                    \"substrates\": {\n",
    "                        mol_id: build_path(rewire_path, mol_id, i, j)\n",
    "                        for mol_id in mol_ids}\n",
    "                }\n",
    "        )\n",
    "\n",
    "# add an emitter to save results\n",
    "v2.add_emitter()\n",
    "\n",
    "v2.diagram(dpi='70')"
   ],
   "id": "8de7c459d363838",
   "outputs": [
    {
     "name": "stdout",
     "output_type": "stream",
     "text": [
      "Adding dFBA[0,0] to ['fields', 'mol_id', 0, 0]\n",
      "\n"
     ]
    },
    {
     "data": {
      "image/svg+xml": "<?xml version=\"1.0\" encoding=\"UTF-8\" standalone=\"no\"?>\n<!DOCTYPE svg PUBLIC \"-//W3C//DTD SVG 1.1//EN\"\n \"http://www.w3.org/Graphics/SVG/1.1/DTD/svg11.dtd\">\n<!-- Generated by graphviz version 9.0.0 (0)\n -->\n<!-- Title: bigraph Pages: 1 -->\n<svg width=\"504pt\" height=\"402pt\"\n viewBox=\"0.00 0.00 518.80 413.29\" xmlns=\"http://www.w3.org/2000/svg\" xmlns:xlink=\"http://www.w3.org/1999/xlink\">\n<g id=\"graph0\" class=\"graph\" transform=\"scale(0.972222 0.972222) rotate(0) translate(4 409.29)\">\n<title>bigraph</title>\n<polygon fill=\"white\" stroke=\"none\" points=\"-4,4 -4,-409.29 514.8,-409.29 514.8,4 -4,4\"/>\n<!-- (&#39;global_time&#39;,) -->\n<g id=\"node1\" class=\"node\">\n<title>(&#39;global_time&#39;,)</title>\n<ellipse fill=\"none\" stroke=\"black\" stroke-width=\"2\" cx=\"71.8\" cy=\"-367.15\" rx=\"38.14\" ry=\"38.14\"/>\n<text text-anchor=\"start\" x=\"43.14\" y=\"-363.55\" font-family=\"Times,serif\" font-size=\"12.00\">global_time</text>\n</g>\n<!-- (&#39;emitter&#39;,) -->\n<g id=\"node13\" class=\"node\">\n<title>(&#39;emitter&#39;,)</title>\n<polygon fill=\"none\" stroke=\"black\" stroke-width=\"2\" points=\"98.8,-273.51 44.8,-273.51 44.8,-237.51 98.8,-237.51 98.8,-273.51\"/>\n<text text-anchor=\"start\" x=\"54.81\" y=\"-251.91\" font-family=\"Times,serif\" font-size=\"12.00\">emitter</text>\n</g>\n<!-- (&#39;global_time&#39;,)&#45;&gt;(&#39;emitter&#39;,) -->\n<g id=\"edge13\" class=\"edge\">\n<title>(&#39;global_time&#39;,)&#45;&gt;(&#39;emitter&#39;,)</title>\n<path fill=\"none\" stroke=\"black\" stroke-dasharray=\"5,2\" d=\"M71.8,-328.11C71.8,-314.19 71.8,-298.67 71.8,-285.64\"/>\n<polygon fill=\"black\" stroke=\"black\" points=\"75.3,-286.02 71.8,-276.02 68.3,-286.02 75.3,-286.02\"/>\n<text text-anchor=\"start\" x=\"71.8\" y=\"-303.01\" font-family=\"Times,serif\" font-size=\"10.00\">global_time</text>\n</g>\n<!-- (&#39;fields&#39;,) -->\n<g id=\"node2\" class=\"node\">\n<title>(&#39;fields&#39;,)</title>\n<ellipse fill=\"none\" stroke=\"black\" stroke-width=\"2\" cx=\"196.8\" cy=\"-367.15\" rx=\"19.63\" ry=\"19.63\"/>\n<text text-anchor=\"start\" x=\"183.8\" y=\"-363.55\" font-family=\"Times,serif\" font-size=\"12.00\">fields</text>\n</g>\n<!-- (&#39;fields&#39;, &#39;glucose&#39;) -->\n<g id=\"node3\" class=\"node\">\n<title>(&#39;fields&#39;, &#39;glucose&#39;)</title>\n<ellipse fill=\"none\" stroke=\"black\" stroke-width=\"2\" cx=\"142.8\" cy=\"-255.51\" rx=\"25.92\" ry=\"25.92\"/>\n<text text-anchor=\"start\" x=\"124.48\" y=\"-251.91\" font-family=\"Times,serif\" font-size=\"12.00\">glucose</text>\n</g>\n<!-- (&#39;fields&#39;,)&#45;&gt;(&#39;fields&#39;, &#39;glucose&#39;) -->\n<g id=\"edge1\" class=\"edge\">\n<title>(&#39;fields&#39;,)&#45;&gt;(&#39;fields&#39;, &#39;glucose&#39;)</title>\n<path fill=\"none\" stroke=\"black\" stroke-width=\"2\" d=\"M190.08,-347.85C185.01,-334.6 177.61,-316.41 169.8,-301.01 165.96,-293.43 161.3,-285.42 156.94,-278.31\"/>\n</g>\n<!-- (&#39;fields&#39;, &#39;acetate&#39;) -->\n<g id=\"node6\" class=\"node\">\n<title>(&#39;fields&#39;, &#39;acetate&#39;)</title>\n<ellipse fill=\"none\" stroke=\"black\" stroke-width=\"2\" cx=\"210.8\" cy=\"-255.51\" rx=\"23.94\" ry=\"23.94\"/>\n<text text-anchor=\"start\" x=\"194.15\" y=\"-251.91\" font-family=\"Times,serif\" font-size=\"12.00\">acetate</text>\n</g>\n<!-- (&#39;fields&#39;,)&#45;&gt;(&#39;fields&#39;, &#39;acetate&#39;) -->\n<g id=\"edge4\" class=\"edge\">\n<title>(&#39;fields&#39;,)&#45;&gt;(&#39;fields&#39;, &#39;acetate&#39;)</title>\n<path fill=\"none\" stroke=\"black\" stroke-width=\"2\" d=\"M199.27,-346.8C201.64,-328.23 205.23,-300.15 207.77,-280.24\"/>\n</g>\n<!-- (&#39;fields&#39;, &#39;biomass&#39;) -->\n<g id=\"node9\" class=\"node\">\n<title>(&#39;fields&#39;, &#39;biomass&#39;)</title>\n<ellipse fill=\"none\" stroke=\"black\" stroke-width=\"2\" cx=\"308.8\" cy=\"-255.51\" rx=\"27.51\" ry=\"27.51\"/>\n<text text-anchor=\"start\" x=\"289.14\" y=\"-251.91\" font-family=\"Times,serif\" font-size=\"12.00\">biomass</text>\n</g>\n<!-- (&#39;fields&#39;,)&#45;&gt;(&#39;fields&#39;, &#39;biomass&#39;) -->\n<g id=\"edge7\" class=\"edge\">\n<title>(&#39;fields&#39;,)&#45;&gt;(&#39;fields&#39;, &#39;biomass&#39;)</title>\n<path fill=\"none\" stroke=\"black\" stroke-width=\"2\" d=\"M210.99,-352.26C230.77,-332.9 266.71,-297.71 289.09,-275.81\"/>\n</g>\n<!-- (&#39;fields&#39;,)&#45;&gt;(&#39;emitter&#39;,) -->\n<g id=\"edge14\" class=\"edge\">\n<title>(&#39;fields&#39;,)&#45;&gt;(&#39;emitter&#39;,)</title>\n<path fill=\"none\" stroke=\"black\" stroke-dasharray=\"5,2\" d=\"M182.06,-352.83C167.37,-339.61 144.14,-318.78 123.8,-301.01 116.54,-294.66 108.65,-287.86 101.26,-281.53\"/>\n<polygon fill=\"black\" stroke=\"black\" points=\"103.92,-279.2 94.04,-275.36 99.37,-284.52 103.92,-279.2\"/>\n<text text-anchor=\"start\" x=\"134.8\" y=\"-303.01\" font-family=\"Times,serif\" font-size=\"10.00\">fields</text>\n</g>\n<!-- (&#39;fields&#39;, &#39;glucose&#39;, 0) -->\n<g id=\"node4\" class=\"node\">\n<title>(&#39;fields&#39;, &#39;glucose&#39;, 0)</title>\n<ellipse fill=\"none\" stroke=\"black\" stroke-width=\"2\" cx=\"132.8\" cy=\"-173\" rx=\"18\" ry=\"18\"/>\n<text text-anchor=\"start\" x=\"129.8\" y=\"-169.4\" font-family=\"Times,serif\" font-size=\"12.00\">0</text>\n</g>\n<!-- (&#39;fields&#39;, &#39;glucose&#39;)&#45;&gt;(&#39;fields&#39;, &#39;glucose&#39;, 0) -->\n<g id=\"edge2\" class=\"edge\">\n<title>(&#39;fields&#39;, &#39;glucose&#39;)&#45;&gt;(&#39;fields&#39;, &#39;glucose&#39;, 0)</title>\n<path fill=\"none\" stroke=\"black\" stroke-width=\"2\" d=\"M139.64,-229.03C138.13,-216.87 136.36,-202.62 135,-191.67\"/>\n</g>\n<!-- (&#39;fields&#39;, &#39;glucose&#39;, 0, 0) -->\n<g id=\"node5\" class=\"node\">\n<title>(&#39;fields&#39;, &#39;glucose&#39;, 0, 0)</title>\n<ellipse fill=\"none\" stroke=\"black\" stroke-width=\"2\" cx=\"99.8\" cy=\"-100\" rx=\"18\" ry=\"18\"/>\n<text text-anchor=\"start\" x=\"96.8\" y=\"-96.4\" font-family=\"Times,serif\" font-size=\"12.00\">0</text>\n</g>\n<!-- (&#39;fields&#39;, &#39;glucose&#39;, 0)&#45;&gt;(&#39;fields&#39;, &#39;glucose&#39;, 0, 0) -->\n<g id=\"edge3\" class=\"edge\">\n<title>(&#39;fields&#39;, &#39;glucose&#39;, 0)&#45;&gt;(&#39;fields&#39;, &#39;glucose&#39;, 0, 0)</title>\n<path fill=\"none\" stroke=\"black\" stroke-width=\"2\" d=\"M125.32,-155.89C119.91,-144.27 112.66,-128.65 107.26,-117.05\"/>\n</g>\n<!-- (&#39;dFBA[0,0]&#39;,) -->\n<g id=\"node12\" class=\"node\">\n<title>(&#39;dFBA[0,0]&#39;,)</title>\n<polygon fill=\"none\" stroke=\"black\" stroke-width=\"2\" points=\"271.57,-36 212.04,-36 212.04,0 271.57,0 271.57,-36\"/>\n<text text-anchor=\"start\" x=\"215.64\" y=\"-14.4\" font-family=\"Times,serif\" font-size=\"12.00\">dFBA[0,0]</text>\n</g>\n<!-- (&#39;fields&#39;, &#39;glucose&#39;, 0, 0)&#45;&gt;(&#39;dFBA[0,0]&#39;,) -->\n<g id=\"edge10\" class=\"edge\">\n<title>(&#39;fields&#39;, &#39;glucose&#39;, 0, 0)&#45;&gt;(&#39;dFBA[0,0]&#39;,)</title>\n<path fill=\"none\" stroke=\"black\" stroke-dasharray=\"5,2\" d=\"M81.24,-97C47.6,-92.67 -17.93,-80.61 5.04,-54 29.72,-25.41 138.73,-19.77 199.87,-18.91\"/>\n<polygon fill=\"black\" stroke=\"black\" points=\"199.58,-22.41 209.54,-18.81 199.51,-15.41 199.58,-22.41\"/>\n<text text-anchor=\"start\" x=\"5.8\" y=\"-56\" font-family=\"Times,serif\" font-size=\"10.00\">substrates/glucose</text>\n</g>\n<!-- (&#39;fields&#39;, &#39;glucose&#39;, 0, 0)&#45;&gt;(&#39;dFBA[0,0]&#39;,) -->\n<g id=\"edge15\" class=\"edge\">\n<title>(&#39;fields&#39;, &#39;glucose&#39;, 0, 0)&#45;&gt;(&#39;dFBA[0,0]&#39;,)</title>\n<path fill=\"none\" stroke=\"black\" stroke-dasharray=\"5,2\" d=\"M106.62,-70.99C109.29,-64.69 112.97,-58.54 118.04,-54 143.82,-30.9 183.75,-22.94 211.25,-20.26\"/>\n<polygon fill=\"black\" stroke=\"black\" points=\"103.45,-69.43 103.51,-80.03 110.07,-71.71 103.45,-69.43\"/>\n<text text-anchor=\"start\" x=\"118.8\" y=\"-56\" font-family=\"Times,serif\" font-size=\"10.00\">substrates/glucose</text>\n</g>\n<!-- (&#39;fields&#39;, &#39;acetate&#39;, 0) -->\n<g id=\"node7\" class=\"node\">\n<title>(&#39;fields&#39;, &#39;acetate&#39;, 0)</title>\n<ellipse fill=\"none\" stroke=\"black\" stroke-width=\"2\" cx=\"210.8\" cy=\"-173\" rx=\"18\" ry=\"18\"/>\n<text text-anchor=\"start\" x=\"207.8\" y=\"-169.4\" font-family=\"Times,serif\" font-size=\"12.00\">0</text>\n</g>\n<!-- (&#39;fields&#39;, &#39;acetate&#39;)&#45;&gt;(&#39;fields&#39;, &#39;acetate&#39;, 0) -->\n<g id=\"edge5\" class=\"edge\">\n<title>(&#39;fields&#39;, &#39;acetate&#39;)&#45;&gt;(&#39;fields&#39;, &#39;acetate&#39;, 0)</title>\n<path fill=\"none\" stroke=\"black\" stroke-width=\"2\" d=\"M210.8,-230.79C210.8,-218.36 210.8,-203.38 210.8,-191.93\"/>\n</g>\n<!-- (&#39;fields&#39;, &#39;acetate&#39;, 0, 0) -->\n<g id=\"node8\" class=\"node\">\n<title>(&#39;fields&#39;, &#39;acetate&#39;, 0, 0)</title>\n<ellipse fill=\"none\" stroke=\"black\" stroke-width=\"2\" cx=\"210.8\" cy=\"-100\" rx=\"18\" ry=\"18\"/>\n<text text-anchor=\"start\" x=\"207.8\" y=\"-96.4\" font-family=\"Times,serif\" font-size=\"12.00\">0</text>\n</g>\n<!-- (&#39;fields&#39;, &#39;acetate&#39;, 0)&#45;&gt;(&#39;fields&#39;, &#39;acetate&#39;, 0, 0) -->\n<g id=\"edge6\" class=\"edge\">\n<title>(&#39;fields&#39;, &#39;acetate&#39;, 0)&#45;&gt;(&#39;fields&#39;, &#39;acetate&#39;, 0, 0)</title>\n<path fill=\"none\" stroke=\"black\" stroke-width=\"2\" d=\"M210.8,-154.08C210.8,-143.24 210.8,-129.46 210.8,-118.66\"/>\n</g>\n<!-- (&#39;fields&#39;, &#39;acetate&#39;, 0, 0)&#45;&gt;(&#39;dFBA[0,0]&#39;,) -->\n<g id=\"edge11\" class=\"edge\">\n<title>(&#39;fields&#39;, &#39;acetate&#39;, 0, 0)&#45;&gt;(&#39;dFBA[0,0]&#39;,)</title>\n<path fill=\"none\" stroke=\"black\" stroke-dasharray=\"5,2\" d=\"M200.81,-84.38C195.96,-75.36 192.1,-63.7 196.84,-54 198.49,-50.62 200.64,-47.48 203.11,-44.57\"/>\n<polygon fill=\"black\" stroke=\"black\" points=\"205.5,-47.12 210.19,-37.62 200.6,-42.12 205.5,-47.12\"/>\n<text text-anchor=\"start\" x=\"197.8\" y=\"-56\" font-family=\"Times,serif\" font-size=\"10.00\">substrates/acetate</text>\n</g>\n<!-- (&#39;fields&#39;, &#39;acetate&#39;, 0, 0)&#45;&gt;(&#39;dFBA[0,0]&#39;,) -->\n<g id=\"edge16\" class=\"edge\">\n<title>(&#39;fields&#39;, &#39;acetate&#39;, 0, 0)&#45;&gt;(&#39;dFBA[0,0]&#39;,)</title>\n<path fill=\"none\" stroke=\"black\" stroke-dasharray=\"5,2\" d=\"M238.85,-88.52C249.59,-82.97 260.72,-74.98 266.8,-64 271.74,-55.09 267.33,-45.19 260.91,-36.95\"/>\n<polygon fill=\"black\" stroke=\"black\" points=\"237.46,-85.31 229.82,-92.65 240.37,-91.68 237.46,-85.31\"/>\n<text text-anchor=\"start\" x=\"268.8\" y=\"-56\" font-family=\"Times,serif\" font-size=\"10.00\">substrates/acetate</text>\n</g>\n<!-- (&#39;fields&#39;, &#39;biomass&#39;, 0) -->\n<g id=\"node10\" class=\"node\">\n<title>(&#39;fields&#39;, &#39;biomass&#39;, 0)</title>\n<ellipse fill=\"none\" stroke=\"black\" stroke-width=\"2\" cx=\"316.8\" cy=\"-173\" rx=\"18\" ry=\"18\"/>\n<text text-anchor=\"start\" x=\"313.8\" y=\"-169.4\" font-family=\"Times,serif\" font-size=\"12.00\">0</text>\n</g>\n<!-- (&#39;fields&#39;, &#39;biomass&#39;)&#45;&gt;(&#39;fields&#39;, &#39;biomass&#39;, 0) -->\n<g id=\"edge8\" class=\"edge\">\n<title>(&#39;fields&#39;, &#39;biomass&#39;)&#45;&gt;(&#39;fields&#39;, &#39;biomass&#39;, 0)</title>\n<path fill=\"none\" stroke=\"black\" stroke-width=\"2\" d=\"M311.51,-227.25C312.67,-215.57 314,-202.26 315.03,-191.87\"/>\n</g>\n<!-- (&#39;fields&#39;, &#39;biomass&#39;, 0, 0) -->\n<g id=\"node11\" class=\"node\">\n<title>(&#39;fields&#39;, &#39;biomass&#39;, 0, 0)</title>\n<ellipse fill=\"none\" stroke=\"black\" stroke-width=\"2\" cx=\"381.8\" cy=\"-100\" rx=\"18\" ry=\"18\"/>\n<text text-anchor=\"start\" x=\"378.8\" y=\"-96.4\" font-family=\"Times,serif\" font-size=\"12.00\">0</text>\n</g>\n<!-- (&#39;fields&#39;, &#39;biomass&#39;, 0)&#45;&gt;(&#39;fields&#39;, &#39;biomass&#39;, 0, 0) -->\n<g id=\"edge9\" class=\"edge\">\n<title>(&#39;fields&#39;, &#39;biomass&#39;, 0)&#45;&gt;(&#39;fields&#39;, &#39;biomass&#39;, 0, 0)</title>\n<path fill=\"none\" stroke=\"black\" stroke-width=\"2\" d=\"M329.03,-158.65C340.65,-145.95 358.03,-126.97 369.63,-114.29\"/>\n</g>\n<!-- (&#39;fields&#39;, &#39;biomass&#39;, 0, 0)&#45;&gt;(&#39;dFBA[0,0]&#39;,) -->\n<g id=\"edge12\" class=\"edge\">\n<title>(&#39;fields&#39;, &#39;biomass&#39;, 0, 0)&#45;&gt;(&#39;dFBA[0,0]&#39;,)</title>\n<path fill=\"none\" stroke=\"black\" stroke-dasharray=\"5,2\" d=\"M372.11,-84.23C365.03,-74.45 354.62,-62 342.8,-54 324.95,-41.91 302.49,-33.59 283.29,-28.1\"/>\n<polygon fill=\"black\" stroke=\"black\" points=\"284.45,-24.78 273.89,-25.58 282.64,-31.55 284.45,-24.78\"/>\n<text text-anchor=\"start\" x=\"353.8\" y=\"-56\" font-family=\"Times,serif\" font-size=\"10.00\">substrates/biomass</text>\n</g>\n<!-- (&#39;fields&#39;, &#39;biomass&#39;, 0, 0)&#45;&gt;(&#39;dFBA[0,0]&#39;,) -->\n<g id=\"edge17\" class=\"edge\">\n<title>(&#39;fields&#39;, &#39;biomass&#39;, 0, 0)&#45;&gt;(&#39;dFBA[0,0]&#39;,)</title>\n<path fill=\"none\" stroke=\"black\" stroke-dasharray=\"5,2\" d=\"M409.66,-87.77C426.77,-79.25 443.51,-66.85 432.8,-54 412.73,-29.92 321,-22.35 272.33,-20.02\"/>\n<polygon fill=\"black\" stroke=\"black\" points=\"408.23,-84.58 400.59,-91.91 411.14,-90.94 408.23,-84.58\"/>\n<text text-anchor=\"start\" x=\"435.8\" y=\"-56\" font-family=\"Times,serif\" font-size=\"10.00\">substrates/biomass</text>\n</g>\n</g>\n</svg>\n",
      "text/plain": [
       "<graphviz.graphs.Digraph at 0x12ac34d90>"
      ]
     },
     "execution_count": 12,
     "metadata": {},
     "output_type": "execute_result"
    }
   ],
   "execution_count": 12
  },
  {
   "metadata": {
    "ExecuteTime": {
     "end_time": "2025-04-16T12:58:09.976608Z",
     "start_time": "2025-04-16T12:58:09.967723Z"
    }
   },
   "cell_type": "code",
   "source": [
    "# change some initial values\n",
    "v2.set_value(path = ['fields', 'glucose', 0, 0], value=10)\n",
    "v2.set_value(path = ['fields', 'biomass', 0, 0], value=0.1)\n",
    "field = v2.get_value(['fields'])\n",
    "print(field)"
   ],
   "id": "620da2a03265a606",
   "outputs": [
    {
     "name": "stdout",
     "output_type": "stream",
     "text": [
      "{'glucose': {0: {0: 10}}, 'acetate': {0: {0: 0.0}}, 'biomass': {0: {0: 0.1}}}\n"
     ]
    }
   ],
   "execution_count": 13
  },
  {
   "metadata": {
    "ExecuteTime": {
     "end_time": "2025-04-16T12:58:09.994904Z",
     "start_time": "2025-04-16T12:58:09.981934Z"
    }
   },
   "cell_type": "code",
   "source": "v2.run(20)",
   "id": "2182d1583da15e",
   "outputs": [],
   "execution_count": 14
  },
  {
   "metadata": {
    "ExecuteTime": {
     "end_time": "2025-04-16T12:58:10.001025Z",
     "start_time": "2025-04-16T12:58:09.999240Z"
    }
   },
   "cell_type": "code",
   "source": "timeseries = v2.get_timeseries()",
   "id": "eabda4501b519fa2",
   "outputs": [],
   "execution_count": 15
  },
  {
   "metadata": {
    "ExecuteTime": {
     "end_time": "2025-04-16T12:58:10.009772Z",
     "start_time": "2025-04-16T12:58:10.006311Z"
    }
   },
   "cell_type": "code",
   "source": "timeseries",
   "id": "c43e4305ef232741",
   "outputs": [
    {
     "data": {
      "text/plain": [
       "    /global_time  /fields/glucose/0/0  /fields/acetate/0/0  \\\n",
       "0            0.0            10.000000             0.000000   \n",
       "1            1.0             9.904762             0.012108   \n",
       "2            2.0             9.802006             0.025084   \n",
       "3            3.0             9.691146             0.038979   \n",
       "4            4.0             9.571550             0.053844   \n",
       "5            5.0             9.442542             0.069731   \n",
       "6            6.0             9.303393             0.086691   \n",
       "7            7.0             9.153321             0.104770   \n",
       "8            8.0             8.991487             0.124012   \n",
       "9            9.0             8.816992             0.144454   \n",
       "10          10.0             8.628873             0.166123   \n",
       "11          11.0             8.426101             0.189034   \n",
       "12          12.0             8.207576             0.213183   \n",
       "13          13.0             7.972129             0.238539   \n",
       "14          14.0             7.718516             0.265039   \n",
       "15          15.0             7.445420             0.292573   \n",
       "16          16.0             7.151453             0.320967   \n",
       "17          17.0             6.835160             0.349964   \n",
       "18          18.0             6.495029             0.379186   \n",
       "19          19.0             6.129506             0.408097   \n",
       "20          20.0             5.737022             0.435933   \n",
       "\n",
       "    /fields/biomass/0/0  \n",
       "0              0.100000  \n",
       "1              0.107943  \n",
       "2              0.116515  \n",
       "3              0.125766  \n",
       "4              0.135747  \n",
       "5              0.146517  \n",
       "6              0.158137  \n",
       "7              0.170674  \n",
       "8              0.184199  \n",
       "9              0.198787  \n",
       "10             0.214522  \n",
       "11             0.231492  \n",
       "12             0.249790  \n",
       "13             0.269519  \n",
       "14             0.290787  \n",
       "15             0.313709  \n",
       "16             0.338407  \n",
       "17             0.365012  \n",
       "18             0.393661  \n",
       "19             0.424500  \n",
       "20             0.457677  "
      ],
      "text/html": [
       "<div>\n",
       "<style scoped>\n",
       "    .dataframe tbody tr th:only-of-type {\n",
       "        vertical-align: middle;\n",
       "    }\n",
       "\n",
       "    .dataframe tbody tr th {\n",
       "        vertical-align: top;\n",
       "    }\n",
       "\n",
       "    .dataframe thead th {\n",
       "        text-align: right;\n",
       "    }\n",
       "</style>\n",
       "<table border=\"1\" class=\"dataframe\">\n",
       "  <thead>\n",
       "    <tr style=\"text-align: right;\">\n",
       "      <th></th>\n",
       "      <th>/global_time</th>\n",
       "      <th>/fields/glucose/0/0</th>\n",
       "      <th>/fields/acetate/0/0</th>\n",
       "      <th>/fields/biomass/0/0</th>\n",
       "    </tr>\n",
       "  </thead>\n",
       "  <tbody>\n",
       "    <tr>\n",
       "      <th>0</th>\n",
       "      <td>0.0</td>\n",
       "      <td>10.000000</td>\n",
       "      <td>0.000000</td>\n",
       "      <td>0.100000</td>\n",
       "    </tr>\n",
       "    <tr>\n",
       "      <th>1</th>\n",
       "      <td>1.0</td>\n",
       "      <td>9.904762</td>\n",
       "      <td>0.012108</td>\n",
       "      <td>0.107943</td>\n",
       "    </tr>\n",
       "    <tr>\n",
       "      <th>2</th>\n",
       "      <td>2.0</td>\n",
       "      <td>9.802006</td>\n",
       "      <td>0.025084</td>\n",
       "      <td>0.116515</td>\n",
       "    </tr>\n",
       "    <tr>\n",
       "      <th>3</th>\n",
       "      <td>3.0</td>\n",
       "      <td>9.691146</td>\n",
       "      <td>0.038979</td>\n",
       "      <td>0.125766</td>\n",
       "    </tr>\n",
       "    <tr>\n",
       "      <th>4</th>\n",
       "      <td>4.0</td>\n",
       "      <td>9.571550</td>\n",
       "      <td>0.053844</td>\n",
       "      <td>0.135747</td>\n",
       "    </tr>\n",
       "    <tr>\n",
       "      <th>5</th>\n",
       "      <td>5.0</td>\n",
       "      <td>9.442542</td>\n",
       "      <td>0.069731</td>\n",
       "      <td>0.146517</td>\n",
       "    </tr>\n",
       "    <tr>\n",
       "      <th>6</th>\n",
       "      <td>6.0</td>\n",
       "      <td>9.303393</td>\n",
       "      <td>0.086691</td>\n",
       "      <td>0.158137</td>\n",
       "    </tr>\n",
       "    <tr>\n",
       "      <th>7</th>\n",
       "      <td>7.0</td>\n",
       "      <td>9.153321</td>\n",
       "      <td>0.104770</td>\n",
       "      <td>0.170674</td>\n",
       "    </tr>\n",
       "    <tr>\n",
       "      <th>8</th>\n",
       "      <td>8.0</td>\n",
       "      <td>8.991487</td>\n",
       "      <td>0.124012</td>\n",
       "      <td>0.184199</td>\n",
       "    </tr>\n",
       "    <tr>\n",
       "      <th>9</th>\n",
       "      <td>9.0</td>\n",
       "      <td>8.816992</td>\n",
       "      <td>0.144454</td>\n",
       "      <td>0.198787</td>\n",
       "    </tr>\n",
       "    <tr>\n",
       "      <th>10</th>\n",
       "      <td>10.0</td>\n",
       "      <td>8.628873</td>\n",
       "      <td>0.166123</td>\n",
       "      <td>0.214522</td>\n",
       "    </tr>\n",
       "    <tr>\n",
       "      <th>11</th>\n",
       "      <td>11.0</td>\n",
       "      <td>8.426101</td>\n",
       "      <td>0.189034</td>\n",
       "      <td>0.231492</td>\n",
       "    </tr>\n",
       "    <tr>\n",
       "      <th>12</th>\n",
       "      <td>12.0</td>\n",
       "      <td>8.207576</td>\n",
       "      <td>0.213183</td>\n",
       "      <td>0.249790</td>\n",
       "    </tr>\n",
       "    <tr>\n",
       "      <th>13</th>\n",
       "      <td>13.0</td>\n",
       "      <td>7.972129</td>\n",
       "      <td>0.238539</td>\n",
       "      <td>0.269519</td>\n",
       "    </tr>\n",
       "    <tr>\n",
       "      <th>14</th>\n",
       "      <td>14.0</td>\n",
       "      <td>7.718516</td>\n",
       "      <td>0.265039</td>\n",
       "      <td>0.290787</td>\n",
       "    </tr>\n",
       "    <tr>\n",
       "      <th>15</th>\n",
       "      <td>15.0</td>\n",
       "      <td>7.445420</td>\n",
       "      <td>0.292573</td>\n",
       "      <td>0.313709</td>\n",
       "    </tr>\n",
       "    <tr>\n",
       "      <th>16</th>\n",
       "      <td>16.0</td>\n",
       "      <td>7.151453</td>\n",
       "      <td>0.320967</td>\n",
       "      <td>0.338407</td>\n",
       "    </tr>\n",
       "    <tr>\n",
       "      <th>17</th>\n",
       "      <td>17.0</td>\n",
       "      <td>6.835160</td>\n",
       "      <td>0.349964</td>\n",
       "      <td>0.365012</td>\n",
       "    </tr>\n",
       "    <tr>\n",
       "      <th>18</th>\n",
       "      <td>18.0</td>\n",
       "      <td>6.495029</td>\n",
       "      <td>0.379186</td>\n",
       "      <td>0.393661</td>\n",
       "    </tr>\n",
       "    <tr>\n",
       "      <th>19</th>\n",
       "      <td>19.0</td>\n",
       "      <td>6.129506</td>\n",
       "      <td>0.408097</td>\n",
       "      <td>0.424500</td>\n",
       "    </tr>\n",
       "    <tr>\n",
       "      <th>20</th>\n",
       "      <td>20.0</td>\n",
       "      <td>5.737022</td>\n",
       "      <td>0.435933</td>\n",
       "      <td>0.457677</td>\n",
       "    </tr>\n",
       "  </tbody>\n",
       "</table>\n",
       "</div>"
      ]
     },
     "execution_count": 16,
     "metadata": {},
     "output_type": "execute_result"
    }
   ],
   "execution_count": 16
  },
  {
   "metadata": {
    "ExecuteTime": {
     "end_time": "2025-04-16T12:58:10.030303Z",
     "start_time": "2025-04-16T12:58:10.028434Z"
    }
   },
   "cell_type": "code",
   "source": [
    "all_paths = []\n",
    "for i in range(rows):\n",
    "    for j in range(columns):\n",
    "        for mol_id in mol_ids:\n",
    "            this_path = build_path(path, mol_id, i, j)\n",
    "            rendered_path = render_path(this_path)\n",
    "            all_paths.append(rendered_path)\n",
    "print(all_paths)"
   ],
   "id": "cb1de1b7c145a94a",
   "outputs": [
    {
     "name": "stdout",
     "output_type": "stream",
     "text": [
      "['/fields/glucose/0/0', '/fields/acetate/0/0', '/fields/biomass/0/0']\n"
     ]
    }
   ],
   "execution_count": 17
  },
  {
   "metadata": {
    "ExecuteTime": {
     "end_time": "2025-04-16T12:58:10.111335Z",
     "start_time": "2025-04-16T12:58:10.047925Z"
    }
   },
   "cell_type": "code",
   "source": [
    "v2.plot_timeseries(\n",
    "    subplot_size=(8, 3),\n",
    "    combined_vars=[all_paths\n",
    "        # [\n",
    "        #     '/fields/glucose/0/0',\n",
    "        #     '/fields/acetate/0/0',\n",
    "        #     '/fields/biomass/0/0'\n",
    "        # ]\n",
    "    ]\n",
    ")"
   ],
   "id": "c99171faa7be741a",
   "outputs": [
    {
     "data": {
      "text/plain": [
       "<Figure size 800x300 with 1 Axes>"
      ],
      "image/png": "[encoded data removed]"
     },
     "execution_count": 18,
     "metadata": {},
     "output_type": "execute_result"
    }
   ],
   "execution_count": 18
  },
  {
   "metadata": {
    "ExecuteTime": {
     "end_time": "2025-04-16T12:58:10.148110Z",
     "start_time": "2025-04-16T12:58:10.138712Z"
    }
   },
   "cell_type": "code",
   "source": "",
   "id": "5584c7d665b812f5",
   "outputs": [],
   "execution_count": null
  }
 ],
 "metadata": {
  "kernelspec": {
   "display_name": "Python 3",
   "language": "python",
   "name": "python3"
  },
  "language_info": {
   "codemirror_mode": {
    "name": "ipython",
    "version": 2
   },
   "file_extension": ".py",
   "mimetype": "text/x-python",
   "name": "python",
   "nbconvert_exporter": "python",
   "pygments_lexer": "ipython2",
   "version": "2.7.6"
  }
 },
 "nbformat": 4,
 "nbformat_minor": 5
}
