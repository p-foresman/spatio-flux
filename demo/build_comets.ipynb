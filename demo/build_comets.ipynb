{
 "cells": [
  {
   "cell_type": "code",
   "id": "initial_id",
   "metadata": {
    "collapsed": true,
    "ExecuteTime": {
     "end_time": "2025-04-01T22:39:46.698462Z",
     "start_time": "2025-04-01T22:39:46.696464Z"
    }
   },
   "source": [
    "from vivarium import Vivarium\n",
    "from spatio_flux import PROCESS_DICT, TYPES_DICT"
   ],
   "outputs": [],
   "execution_count": 28
  },
  {
   "metadata": {
    "ExecuteTime": {
     "end_time": "2025-04-01T22:39:46.712557Z",
     "start_time": "2025-04-01T22:39:46.701891Z"
    }
   },
   "cell_type": "code",
   "source": "v = Vivarium(processes=PROCESS_DICT, types=TYPES_DICT)",
   "id": "66f96b03df1eb3b0",
   "outputs": [],
   "execution_count": 29
  },
  {
   "metadata": {
    "ExecuteTime": {
     "end_time": "2025-04-01T22:39:46.721026Z",
     "start_time": "2025-04-01T22:39:46.716613Z"
    }
   },
   "cell_type": "code",
   "source": "v.get_types()",
   "id": "6da148ba9e2bba1f",
   "outputs": [
    {
     "data": {
      "text/plain": [
       "                               Type\n",
       "0                                  \n",
       "1                           integer\n",
       "2            current*time/substance\n",
       "3               length^0_5*mass^0_5\n",
       "4                       mass/time^2\n",
       "..                              ...\n",
       "97         length^0_5*mass^0_5/time\n",
       "98   length^2*mass/current^2*time^2\n",
       "99                           schema\n",
       "100  length^2*mass/current^2*time^3\n",
       "101                            time\n",
       "\n",
       "[102 rows x 1 columns]"
      ],
      "text/html": [
       "<div>\n",
       "<style scoped>\n",
       "    .dataframe tbody tr th:only-of-type {\n",
       "        vertical-align: middle;\n",
       "    }\n",
       "\n",
       "    .dataframe tbody tr th {\n",
       "        vertical-align: top;\n",
       "    }\n",
       "\n",
       "    .dataframe thead th {\n",
       "        text-align: right;\n",
       "    }\n",
       "</style>\n",
       "<table border=\"1\" class=\"dataframe\">\n",
       "  <thead>\n",
       "    <tr style=\"text-align: right;\">\n",
       "      <th></th>\n",
       "      <th>Type</th>\n",
       "    </tr>\n",
       "  </thead>\n",
       "  <tbody>\n",
       "    <tr>\n",
       "      <th>0</th>\n",
       "      <td></td>\n",
       "    </tr>\n",
       "    <tr>\n",
       "      <th>1</th>\n",
       "      <td>integer</td>\n",
       "    </tr>\n",
       "    <tr>\n",
       "      <th>2</th>\n",
       "      <td>current*time/substance</td>\n",
       "    </tr>\n",
       "    <tr>\n",
       "      <th>3</th>\n",
       "      <td>length^0_5*mass^0_5</td>\n",
       "    </tr>\n",
       "    <tr>\n",
       "      <th>4</th>\n",
       "      <td>mass/time^2</td>\n",
       "    </tr>\n",
       "    <tr>\n",
       "      <th>...</th>\n",
       "      <td>...</td>\n",
       "    </tr>\n",
       "    <tr>\n",
       "      <th>97</th>\n",
       "      <td>length^0_5*mass^0_5/time</td>\n",
       "    </tr>\n",
       "    <tr>\n",
       "      <th>98</th>\n",
       "      <td>length^2*mass/current^2*time^2</td>\n",
       "    </tr>\n",
       "    <tr>\n",
       "      <th>99</th>\n",
       "      <td>schema</td>\n",
       "    </tr>\n",
       "    <tr>\n",
       "      <th>100</th>\n",
       "      <td>length^2*mass/current^2*time^3</td>\n",
       "    </tr>\n",
       "    <tr>\n",
       "      <th>101</th>\n",
       "      <td>time</td>\n",
       "    </tr>\n",
       "  </tbody>\n",
       "</table>\n",
       "<p>102 rows × 1 columns</p>\n",
       "</div>"
      ]
     },
     "execution_count": 30,
     "metadata": {},
     "output_type": "execute_result"
    }
   ],
   "execution_count": 30
  },
  {
   "metadata": {
    "ExecuteTime": {
     "end_time": "2025-04-01T22:39:46.744455Z",
     "start_time": "2025-04-01T22:39:46.740420Z"
    }
   },
   "cell_type": "code",
   "source": [
    "# view the available processes\n",
    "v.get_processes()"
   ],
   "id": "aaa56a31b99950ad",
   "outputs": [
    {
     "data": {
      "text/plain": [
       "              Process\n",
       "0         ram-emitter\n",
       "1     MinimalParticle\n",
       "2           composite\n",
       "3          DynamicFBA\n",
       "4           Particles\n",
       "5  DiffusionAdvection\n",
       "6        json-emitter\n",
       "7     console-emitter"
      ],
      "text/html": [
       "<div>\n",
       "<style scoped>\n",
       "    .dataframe tbody tr th:only-of-type {\n",
       "        vertical-align: middle;\n",
       "    }\n",
       "\n",
       "    .dataframe tbody tr th {\n",
       "        vertical-align: top;\n",
       "    }\n",
       "\n",
       "    .dataframe thead th {\n",
       "        text-align: right;\n",
       "    }\n",
       "</style>\n",
       "<table border=\"1\" class=\"dataframe\">\n",
       "  <thead>\n",
       "    <tr style=\"text-align: right;\">\n",
       "      <th></th>\n",
       "      <th>Process</th>\n",
       "    </tr>\n",
       "  </thead>\n",
       "  <tbody>\n",
       "    <tr>\n",
       "      <th>0</th>\n",
       "      <td>ram-emitter</td>\n",
       "    </tr>\n",
       "    <tr>\n",
       "      <th>1</th>\n",
       "      <td>MinimalParticle</td>\n",
       "    </tr>\n",
       "    <tr>\n",
       "      <th>2</th>\n",
       "      <td>composite</td>\n",
       "    </tr>\n",
       "    <tr>\n",
       "      <th>3</th>\n",
       "      <td>DynamicFBA</td>\n",
       "    </tr>\n",
       "    <tr>\n",
       "      <th>4</th>\n",
       "      <td>Particles</td>\n",
       "    </tr>\n",
       "    <tr>\n",
       "      <th>5</th>\n",
       "      <td>DiffusionAdvection</td>\n",
       "    </tr>\n",
       "    <tr>\n",
       "      <th>6</th>\n",
       "      <td>json-emitter</td>\n",
       "    </tr>\n",
       "    <tr>\n",
       "      <th>7</th>\n",
       "      <td>console-emitter</td>\n",
       "    </tr>\n",
       "  </tbody>\n",
       "</table>\n",
       "</div>"
      ]
     },
     "execution_count": 31,
     "metadata": {},
     "output_type": "execute_result"
    }
   ],
   "execution_count": 31
  },
  {
   "metadata": {
    "ExecuteTime": {
     "end_time": "2025-04-01T22:39:46.789576Z",
     "start_time": "2025-04-01T22:39:46.787794Z"
    }
   },
   "cell_type": "code",
   "source": [
    "# inspect the config schema for the 'increase' process\n",
    "v.process_schema('DynamicFBA')"
   ],
   "id": "3b09457fe1bd1693",
   "outputs": [
    {
     "data": {
      "text/plain": [
       "'(model_file:string|kinetic_params:map[tuple[float,float]]|substrate_update_reactions:map[string]|biomass_identifier:string|bounds:map[bounds])'"
      ]
     },
     "execution_count": 32,
     "metadata": {},
     "output_type": "execute_result"
    }
   ],
   "execution_count": 32
  },
  {
   "metadata": {
    "ExecuteTime": {
     "end_time": "2025-04-01T22:39:46.929358Z",
     "start_time": "2025-04-01T22:39:46.858232Z"
    }
   },
   "cell_type": "code",
   "source": [
    "# add a dynamic FBA process called 'dFBA'\n",
    "v.add_process(name=\"dFBA\",\n",
    "              process_id=\"DynamicFBA\",\n",
    "              config={\n",
    "                \"model_file\": \"textbook\",\n",
    "                \"kinetic_params\": {\n",
    "                    \"glucose\": (0.5, 1),\n",
    "                    \"acetate\": (0.5, 2)},\n",
    "                \"substrate_update_reactions\": {\n",
    "                    \"glucose\": \"EX_glc__D_e\",\n",
    "                    \"acetate\": \"EX_ac_e\"},\n",
    "                \"biomass_identifier\": \"biomass\",\n",
    "                \"bounds\": {\n",
    "                    \"EX_o2_e\": {\"lower\": -2, \"upper\": None},\n",
    "                    \"ATPM\": {\"lower\": 1, \"upper\": 1}}},\n",
    "              )\n",
    "v.diagram(dpi='70')"
   ],
   "id": "25737cdd3ed3d5d2",
   "outputs": [
    {
     "data": {
      "image/svg+xml": "<?xml version=\"1.0\" encoding=\"UTF-8\" standalone=\"no\"?>\n<!DOCTYPE svg PUBLIC \"-//W3C//DTD SVG 1.1//EN\"\n \"http://www.w3.org/Graphics/SVG/1.1/DTD/svg11.dtd\">\n<!-- Generated by graphviz version 9.0.0 (0)\n -->\n<!-- Title: bigraph Pages: 1 -->\n<svg width=\"194pt\" height=\"162pt\"\n viewBox=\"0.00 0.00 199.58 166.28\" xmlns=\"http://www.w3.org/2000/svg\" xmlns:xlink=\"http://www.w3.org/1999/xlink\">\n<g id=\"graph0\" class=\"graph\" transform=\"scale(0.972222 0.972222) rotate(0) translate(4 162.28)\">\n<title>bigraph</title>\n<polygon fill=\"white\" stroke=\"none\" points=\"-4,4 -4,-162.28 195.58,-162.28 195.58,4 -4,4\"/>\n<!-- (&#39;global_time&#39;,) -->\n<g id=\"node1\" class=\"node\">\n<title>(&#39;global_time&#39;,)</title>\n<ellipse fill=\"none\" stroke=\"black\" stroke-width=\"2\" cx=\"38.14\" cy=\"-120.14\" rx=\"38.14\" ry=\"38.14\"/>\n<text text-anchor=\"start\" x=\"9.48\" y=\"-116.54\" font-family=\"Times,serif\" font-size=\"12.00\">global_time</text>\n</g>\n<!-- (&#39;dFBA&#39;,) -->\n<g id=\"node2\" class=\"node\">\n<title>(&#39;dFBA&#39;,)</title>\n<polygon fill=\"none\" stroke=\"black\" stroke-width=\"2\" points=\"166.14,-36 112.14,-36 112.14,0 166.14,0 166.14,-36\"/>\n<text text-anchor=\"start\" x=\"124.47\" y=\"-14.4\" font-family=\"Times,serif\" font-size=\"12.00\">dFBA</text>\n</g>\n<!-- (&#39;dFBA&#39;, &#39;s&#39;, &#39;u&#39;, &#39;b&#39;, &#39;s&#39;, &#39;t&#39;, &#39;r&#39;, &#39;a&#39;, &#39;t&#39;, &#39;e&#39;, &#39;s&#39;)_input -->\n<!-- (&#39;dFBA&#39;, &#39;s&#39;, &#39;u&#39;, &#39;b&#39;, &#39;s&#39;, &#39;t&#39;, &#39;r&#39;, &#39;a&#39;, &#39;t&#39;, &#39;e&#39;, &#39;s&#39;)_input&#45;&gt;(&#39;dFBA&#39;,) -->\n<g id=\"edge1\" class=\"edge\">\n<title>(&#39;dFBA&#39;, &#39;s&#39;, &#39;u&#39;, &#39;b&#39;, &#39;s&#39;, &#39;t&#39;, &#39;r&#39;, &#39;a&#39;, &#39;t&#39;, &#39;e&#39;, &#39;s&#39;)_input&#45;&gt;(&#39;dFBA&#39;,)</title>\n<path fill=\"none\" stroke=\"black\" stroke-dasharray=\"5,2\" d=\"M105.68,-106.17C103.71,-92.67 102.21,-71.13 108.7,-54 109.72,-51.3 111.06,-48.67 112.6,-46.14\"/>\n<polygon fill=\"black\" stroke=\"black\" points=\"115.33,-48.33 118.42,-38.19 109.68,-44.19 115.33,-48.33\"/>\n<text text-anchor=\"start\" x=\"108.14\" y=\"-56\" font-family=\"Times,serif\" font-size=\"10.00\">substrates</text>\n</g>\n<!-- (&#39;dFBA&#39;, &#39;s&#39;, &#39;u&#39;, &#39;b&#39;, &#39;s&#39;, &#39;t&#39;, &#39;r&#39;, &#39;a&#39;, &#39;t&#39;, &#39;e&#39;, &#39;s&#39;)_output -->\n<!-- (&#39;dFBA&#39;, &#39;s&#39;, &#39;u&#39;, &#39;b&#39;, &#39;s&#39;, &#39;t&#39;, &#39;r&#39;, &#39;a&#39;, &#39;t&#39;, &#39;e&#39;, &#39;s&#39;)_output&#45;&gt;(&#39;dFBA&#39;,) -->\n<g id=\"edge2\" class=\"edge\">\n<title>(&#39;dFBA&#39;, &#39;s&#39;, &#39;u&#39;, &#39;b&#39;, &#39;s&#39;, &#39;t&#39;, &#39;r&#39;, &#39;a&#39;, &#39;t&#39;, &#39;e&#39;, &#39;s&#39;)_output&#45;&gt;(&#39;dFBA&#39;,)</title>\n<path fill=\"none\" stroke=\"black\" stroke-dasharray=\"5,2\" d=\"M162.82,-95.49C157.27,-77.58 149.77,-53.34 144.71,-36.99\"/>\n<polygon fill=\"black\" stroke=\"black\" points=\"159.46,-96.49 165.76,-105.01 166.15,-94.42 159.46,-96.49\"/>\n<text text-anchor=\"start\" x=\"152.14\" y=\"-56\" font-family=\"Times,serif\" font-size=\"10.00\">substrates</text>\n</g>\n</g>\n</svg>\n",
      "text/plain": [
       "<graphviz.graphs.Digraph at 0x1294b4410>"
      ]
     },
     "execution_count": 33,
     "metadata": {},
     "output_type": "execute_result"
    }
   ],
   "execution_count": 33
  },
  {
   "metadata": {
    "ExecuteTime": {
     "end_time": "2025-04-01T22:39:46.957886Z",
     "start_time": "2025-04-01T22:39:46.932642Z"
    }
   },
   "cell_type": "code",
   "source": [
    "mol_ids = [\"glucose\", \"acetate\", \"biomass\"]\n",
    "path=[\"fields\"]\n",
    "i = 0\n",
    "j = 0\n",
    "\n",
    "def build_path(mol_id):\n",
    "    base_path = path + [mol_id]\n",
    "    if i is not None:\n",
    "        base_path.append(i)\n",
    "    if j is not None:\n",
    "        base_path.append(j)\n",
    "    return base_path\n",
    "\n",
    "# v.add_object(name=\"fields\", type=\"array\")\n",
    "v.connect_process(\n",
    "    process_name=\"dFBA\",\n",
    "    inputs={\n",
    "            \"substrates\": [\"fields\",],  # {mol_id: ['fields', mol_id] for mol_id in mol_ids}\n",
    "        },\n",
    "    outputs={\n",
    "            \"substrates\": [\"fields\",],  # {mol_id: ['fields', mol_id] for mol_id in mol_ids}\n",
    "        }\n",
    "    # inputs={\n",
    "    #         \"substrates\": {mol_id: build_path(mol_id) for mol_id in mol_ids}\n",
    "    #     },\n",
    "    # outputs={\n",
    "    #         \"substrates\": {mol_id: build_path(mol_id) for mol_id in mol_ids}\n",
    "    #     }\n",
    ")\n",
    "v.diagram(dpi='70')"
   ],
   "id": "7229543edc8a0969",
   "outputs": [
    {
     "data": {
      "image/svg+xml": "<?xml version=\"1.0\" encoding=\"UTF-8\" standalone=\"no\"?>\n<!DOCTYPE svg PUBLIC \"-//W3C//DTD SVG 1.1//EN\"\n \"http://www.w3.org/Graphics/SVG/1.1/DTD/svg11.dtd\">\n<!-- Generated by graphviz version 9.0.0 (0)\n -->\n<!-- Title: bigraph Pages: 1 -->\n<svg width=\"167pt\" height=\"162pt\"\n viewBox=\"0.00 0.00 171.58 166.28\" xmlns=\"http://www.w3.org/2000/svg\" xmlns:xlink=\"http://www.w3.org/1999/xlink\">\n<g id=\"graph0\" class=\"graph\" transform=\"scale(0.972222 0.972222) rotate(0) translate(4 162.28)\">\n<title>bigraph</title>\n<polygon fill=\"white\" stroke=\"none\" points=\"-4,4 -4,-162.28 167.58,-162.28 167.58,4 -4,4\"/>\n<!-- (&#39;global_time&#39;,) -->\n<g id=\"node1\" class=\"node\">\n<title>(&#39;global_time&#39;,)</title>\n<ellipse fill=\"none\" stroke=\"black\" stroke-width=\"2\" cx=\"38.14\" cy=\"-120.14\" rx=\"38.14\" ry=\"38.14\"/>\n<text text-anchor=\"start\" x=\"9.48\" y=\"-116.54\" font-family=\"Times,serif\" font-size=\"12.00\">global_time</text>\n</g>\n<!-- (&#39;fields&#39;,) -->\n<g id=\"node2\" class=\"node\">\n<title>(&#39;fields&#39;,)</title>\n<ellipse fill=\"none\" stroke=\"black\" stroke-width=\"2\" cx=\"114.14\" cy=\"-120.14\" rx=\"19.63\" ry=\"19.63\"/>\n<text text-anchor=\"start\" x=\"101.14\" y=\"-116.54\" font-family=\"Times,serif\" font-size=\"12.00\">fields</text>\n</g>\n<!-- (&#39;dFBA&#39;,) -->\n<g id=\"node3\" class=\"node\">\n<title>(&#39;dFBA&#39;,)</title>\n<polygon fill=\"none\" stroke=\"black\" stroke-width=\"2\" points=\"141.14,-36 87.14,-36 87.14,0 141.14,0 141.14,-36\"/>\n<text text-anchor=\"start\" x=\"99.47\" y=\"-14.4\" font-family=\"Times,serif\" font-size=\"12.00\">dFBA</text>\n</g>\n<!-- (&#39;fields&#39;,)&#45;&gt;(&#39;dFBA&#39;,) -->\n<g id=\"edge1\" class=\"edge\">\n<title>(&#39;fields&#39;,)&#45;&gt;(&#39;dFBA&#39;,)</title>\n<path fill=\"none\" stroke=\"black\" stroke-dasharray=\"5,2\" d=\"M100.28,-104.93C89.35,-91.92 76.97,-72 83.7,-54 84.71,-51.29 86.04,-48.66 87.57,-46.13\"/>\n<polygon fill=\"black\" stroke=\"black\" points=\"90.31,-48.32 93.38,-38.18 84.65,-44.19 90.31,-48.32\"/>\n<text text-anchor=\"start\" x=\"84.14\" y=\"-56\" font-family=\"Times,serif\" font-size=\"10.00\">substrates</text>\n</g>\n<!-- (&#39;fields&#39;,)&#45;&gt;(&#39;dFBA&#39;,) -->\n<g id=\"edge2\" class=\"edge\">\n<title>(&#39;fields&#39;,)&#45;&gt;(&#39;dFBA&#39;,)</title>\n<path fill=\"none\" stroke=\"black\" stroke-dasharray=\"5,2\" d=\"M121.61,-89.11C123.48,-78.08 124.59,-65.48 123.14,-54 122.43,-48.4 121.11,-42.41 119.69,-37\"/>\n<polygon fill=\"black\" stroke=\"black\" points=\"118.19,-88.36 119.67,-98.86 125.06,-89.73 118.19,-88.36\"/>\n<text text-anchor=\"start\" x=\"124.14\" y=\"-56\" font-family=\"Times,serif\" font-size=\"10.00\">substrates</text>\n</g>\n</g>\n</svg>\n",
      "text/plain": [
       "<graphviz.graphs.Digraph at 0x1294a0490>"
      ]
     },
     "execution_count": 34,
     "metadata": {},
     "output_type": "execute_result"
    }
   ],
   "execution_count": 34
  },
  {
   "metadata": {
    "ExecuteTime": {
     "end_time": "2025-04-01T22:39:46.984193Z",
     "start_time": "2025-04-01T22:39:46.960732Z"
    }
   },
   "cell_type": "code",
   "source": [
    "v.add_emitter()\n",
    "v.diagram(dpi='70')"
   ],
   "id": "4b4272661be0db8d",
   "outputs": [
    {
     "data": {
      "image/svg+xml": "<?xml version=\"1.0\" encoding=\"UTF-8\" standalone=\"no\"?>\n<!DOCTYPE svg PUBLIC \"-//W3C//DTD SVG 1.1//EN\"\n \"http://www.w3.org/Graphics/SVG/1.1/DTD/svg11.dtd\">\n<!-- Generated by graphviz version 9.0.0 (0)\n -->\n<!-- Title: bigraph Pages: 1 -->\n<svg width=\"236pt\" height=\"162pt\"\n viewBox=\"0.00 0.00 242.58 166.28\" xmlns=\"http://www.w3.org/2000/svg\" xmlns:xlink=\"http://www.w3.org/1999/xlink\">\n<g id=\"graph0\" class=\"graph\" transform=\"scale(0.972222 0.972222) rotate(0) translate(4 162.28)\">\n<title>bigraph</title>\n<polygon fill=\"white\" stroke=\"none\" points=\"-4,4 -4,-162.28 238.58,-162.28 238.58,4 -4,4\"/>\n<!-- (&#39;global_time&#39;,) -->\n<g id=\"node1\" class=\"node\">\n<title>(&#39;global_time&#39;,)</title>\n<ellipse fill=\"none\" stroke=\"black\" stroke-width=\"2\" cx=\"38.14\" cy=\"-120.14\" rx=\"38.14\" ry=\"38.14\"/>\n<text text-anchor=\"start\" x=\"9.48\" y=\"-116.54\" font-family=\"Times,serif\" font-size=\"12.00\">global_time</text>\n</g>\n<!-- (&#39;emitter&#39;,) -->\n<g id=\"node4\" class=\"node\">\n<title>(&#39;emitter&#39;,)</title>\n<polygon fill=\"none\" stroke=\"black\" stroke-width=\"2\" points=\"111.14,-36 57.14,-36 57.14,0 111.14,0 111.14,-36\"/>\n<text text-anchor=\"start\" x=\"67.15\" y=\"-14.4\" font-family=\"Times,serif\" font-size=\"12.00\">emitter</text>\n</g>\n<!-- (&#39;global_time&#39;,)&#45;&gt;(&#39;emitter&#39;,) -->\n<g id=\"edge3\" class=\"edge\">\n<title>(&#39;global_time&#39;,)&#45;&gt;(&#39;emitter&#39;,)</title>\n<path fill=\"none\" stroke=\"black\" stroke-dasharray=\"5,2\" d=\"M33.32,-81.61C33.57,-72.2 35.18,-62.4 39.37,-54 41.5,-49.73 44.43,-45.82 47.77,-42.3\"/>\n<polygon fill=\"black\" stroke=\"black\" points=\"49.93,-45.06 55.02,-35.77 45.24,-39.86 49.93,-45.06\"/>\n<text text-anchor=\"start\" x=\"40.14\" y=\"-56\" font-family=\"Times,serif\" font-size=\"10.00\">global_time</text>\n</g>\n<!-- (&#39;fields&#39;,) -->\n<g id=\"node2\" class=\"node\">\n<title>(&#39;fields&#39;,)</title>\n<ellipse fill=\"none\" stroke=\"black\" stroke-width=\"2\" cx=\"154.14\" cy=\"-120.14\" rx=\"19.63\" ry=\"19.63\"/>\n<text text-anchor=\"start\" x=\"141.14\" y=\"-116.54\" font-family=\"Times,serif\" font-size=\"12.00\">fields</text>\n</g>\n<!-- (&#39;dFBA&#39;,) -->\n<g id=\"node3\" class=\"node\">\n<title>(&#39;dFBA&#39;,)</title>\n<polygon fill=\"none\" stroke=\"black\" stroke-width=\"2\" points=\"205.14,-36 151.14,-36 151.14,0 205.14,0 205.14,-36\"/>\n<text text-anchor=\"start\" x=\"163.47\" y=\"-14.4\" font-family=\"Times,serif\" font-size=\"12.00\">dFBA</text>\n</g>\n<!-- (&#39;fields&#39;,)&#45;&gt;(&#39;dFBA&#39;,) -->\n<g id=\"edge1\" class=\"edge\">\n<title>(&#39;fields&#39;,)&#45;&gt;(&#39;dFBA&#39;,)</title>\n<path fill=\"none\" stroke=\"black\" stroke-dasharray=\"5,2\" d=\"M151.45,-99.88C150.29,-86.68 150.1,-68.91 154.7,-54 155.45,-51.56 156.44,-49.13 157.58,-46.76\"/>\n<polygon fill=\"black\" stroke=\"black\" points=\"160.57,-48.57 162.55,-38.16 154.51,-45.06 160.57,-48.57\"/>\n<text text-anchor=\"start\" x=\"155.14\" y=\"-56\" font-family=\"Times,serif\" font-size=\"10.00\">substrates</text>\n</g>\n<!-- (&#39;fields&#39;,)&#45;&gt;(&#39;dFBA&#39;,) -->\n<g id=\"edge4\" class=\"edge\">\n<title>(&#39;fields&#39;,)&#45;&gt;(&#39;dFBA&#39;,)</title>\n<path fill=\"none\" stroke=\"black\" stroke-dasharray=\"5,2\" d=\"M175.47,-96.55C182.89,-87.21 190.3,-75.81 194.14,-64 197.06,-55.01 194.2,-45.1 190.14,-36.88\"/>\n<polygon fill=\"black\" stroke=\"black\" points=\"172.96,-94.09 169.16,-103.98 178.3,-98.62 172.96,-94.09\"/>\n<text text-anchor=\"start\" x=\"195.14\" y=\"-56\" font-family=\"Times,serif\" font-size=\"10.00\">substrates</text>\n</g>\n<!-- (&#39;fields&#39;,)&#45;&gt;(&#39;emitter&#39;,) -->\n<g id=\"edge2\" class=\"edge\">\n<title>(&#39;fields&#39;,)&#45;&gt;(&#39;emitter&#39;,)</title>\n<path fill=\"none\" stroke=\"black\" stroke-dasharray=\"5,2\" d=\"M142.89,-103.05C132.15,-87.68 115.75,-64.22 103,-45.98\"/>\n<polygon fill=\"black\" stroke=\"black\" points=\"106,-44.17 97.4,-37.98 100.26,-48.18 106,-44.17\"/>\n<text text-anchor=\"start\" x=\"115.14\" y=\"-56\" font-family=\"Times,serif\" font-size=\"10.00\">fields</text>\n</g>\n</g>\n</svg>\n",
      "text/plain": [
       "<graphviz.graphs.Digraph at 0x1295e1e50>"
      ]
     },
     "execution_count": 35,
     "metadata": {},
     "output_type": "execute_result"
    }
   ],
   "execution_count": 35
  },
  {
   "metadata": {
    "ExecuteTime": {
     "end_time": "2025-04-01T22:40:22.310379Z",
     "start_time": "2025-04-01T22:40:22.260865Z"
    }
   },
   "cell_type": "code",
   "source": [
    "# run the simulation for 10 time units\n",
    "v.run(interval=10)"
   ],
   "id": "9a7c8befcc1c0139",
   "outputs": [
    {
     "ename": "KeyError",
     "evalue": "'glucose'",
     "output_type": "error",
     "traceback": [
      "\u001B[0;31m---------------------------------------------------------------------------\u001B[0m",
      "\u001B[0;31mKeyError\u001B[0m                                  Traceback (most recent call last)",
      "Cell \u001B[0;32mIn[36], line 2\u001B[0m\n\u001B[1;32m      1\u001B[0m \u001B[38;5;66;03m# run the simulation for 10 time units\u001B[39;00m\n\u001B[0;32m----> 2\u001B[0m \u001B[43mv\u001B[49m\u001B[38;5;241;43m.\u001B[39;49m\u001B[43mrun\u001B[49m\u001B[43m(\u001B[49m\u001B[43minterval\u001B[49m\u001B[38;5;241;43m=\u001B[39;49m\u001B[38;5;241;43m10\u001B[39;49m\u001B[43m)\u001B[49m\n",
      "File \u001B[0;32m~/code/vivarium-interface/vivarium/vivarium.py:391\u001B[0m, in \u001B[0;36mVivarium.run\u001B[0;34m(self, interval)\u001B[0m\n\u001B[1;32m    388\u001B[0m \u001B[38;5;28;01mif\u001B[39;00m \u001B[38;5;129;01mnot\u001B[39;00m \u001B[38;5;28mself\u001B[39m\u001B[38;5;241m.\u001B[39memitter_paths:\n\u001B[1;32m    389\u001B[0m     \u001B[38;5;28mself\u001B[39m\u001B[38;5;241m.\u001B[39madd_emitter()\n\u001B[0;32m--> 391\u001B[0m \u001B[38;5;28;43mself\u001B[39;49m\u001B[38;5;241;43m.\u001B[39;49m\u001B[43mcomposite\u001B[49m\u001B[38;5;241;43m.\u001B[39;49m\u001B[43mrun\u001B[49m\u001B[43m(\u001B[49m\u001B[43minterval\u001B[49m\u001B[43m)\u001B[49m\n",
      "File \u001B[0;32m~/code/process-bigraph/process_bigraph/composite.py:777\u001B[0m, in \u001B[0;36mComposite.run\u001B[0;34m(self, interval, force_complete)\u001B[0m\n\u001B[1;32m    775\u001B[0m \u001B[38;5;28;01mfor\u001B[39;00m path \u001B[38;5;129;01min\u001B[39;00m \u001B[38;5;28mself\u001B[39m\u001B[38;5;241m.\u001B[39mprocess_paths:\n\u001B[1;32m    776\u001B[0m     process \u001B[38;5;241m=\u001B[39m get_path(\u001B[38;5;28mself\u001B[39m\u001B[38;5;241m.\u001B[39mstate, path)\n\u001B[0;32m--> 777\u001B[0m     full_step \u001B[38;5;241m=\u001B[39m \u001B[38;5;28;43mself\u001B[39;49m\u001B[38;5;241;43m.\u001B[39;49m\u001B[43mrun_process\u001B[49m\u001B[43m(\u001B[49m\n\u001B[1;32m    778\u001B[0m \u001B[43m        \u001B[49m\u001B[43mpath\u001B[49m\u001B[43m,\u001B[49m\n\u001B[1;32m    779\u001B[0m \u001B[43m        \u001B[49m\u001B[43mprocess\u001B[49m\u001B[43m,\u001B[49m\n\u001B[1;32m    780\u001B[0m \u001B[43m        \u001B[49m\u001B[43mend_time\u001B[49m\u001B[43m,\u001B[49m\n\u001B[1;32m    781\u001B[0m \u001B[43m        \u001B[49m\u001B[43mfull_step\u001B[49m\u001B[43m,\u001B[49m\n\u001B[1;32m    782\u001B[0m \u001B[43m        \u001B[49m\u001B[43mforce_complete\u001B[49m\u001B[43m)\u001B[49m\n\u001B[1;32m    784\u001B[0m \u001B[38;5;66;03m# apply updates based on process times in self.front\u001B[39;00m\n\u001B[1;32m    785\u001B[0m \u001B[38;5;28;01mif\u001B[39;00m full_step \u001B[38;5;241m==\u001B[39m math\u001B[38;5;241m.\u001B[39minf:\n\u001B[1;32m    786\u001B[0m     \u001B[38;5;66;03m# no processes ran, jump to next process\u001B[39;00m\n",
      "File \u001B[0;32m~/code/process-bigraph/process_bigraph/composite.py:674\u001B[0m, in \u001B[0;36mComposite.run_process\u001B[0;34m(self, path, process, end_time, full_step, force_complete)\u001B[0m\n\u001B[1;32m    671\u001B[0m     full_step \u001B[38;5;241m=\u001B[39m interval\n\u001B[1;32m    673\u001B[0m \u001B[38;5;28;01mif\u001B[39;00m future \u001B[38;5;241m<\u001B[39m\u001B[38;5;241m=\u001B[39m end_time:\n\u001B[0;32m--> 674\u001B[0m     update \u001B[38;5;241m=\u001B[39m \u001B[38;5;28;43mself\u001B[39;49m\u001B[38;5;241;43m.\u001B[39;49m\u001B[43mprocess_update\u001B[49m\u001B[43m(\u001B[49m\n\u001B[1;32m    675\u001B[0m \u001B[43m        \u001B[49m\u001B[43mpath\u001B[49m\u001B[43m,\u001B[49m\n\u001B[1;32m    676\u001B[0m \u001B[43m        \u001B[49m\u001B[43mprocess\u001B[49m\u001B[43m,\u001B[49m\n\u001B[1;32m    677\u001B[0m \u001B[43m        \u001B[49m\u001B[43mstate\u001B[49m\u001B[43m,\u001B[49m\n\u001B[1;32m    678\u001B[0m \u001B[43m        \u001B[49m\u001B[43mprocess_interval\u001B[49m\n\u001B[1;32m    679\u001B[0m \u001B[43m    \u001B[49m\u001B[43m)\u001B[49m\n\u001B[1;32m    681\u001B[0m     \u001B[38;5;66;03m# update front, to be applied at its projected time\u001B[39;00m\n\u001B[1;32m    682\u001B[0m     \u001B[38;5;28mself\u001B[39m\u001B[38;5;241m.\u001B[39mfront[path][\u001B[38;5;124m'\u001B[39m\u001B[38;5;124mtime\u001B[39m\u001B[38;5;124m'\u001B[39m] \u001B[38;5;241m=\u001B[39m future\n",
      "File \u001B[0;32m~/code/process-bigraph/process_bigraph/composite.py:616\u001B[0m, in \u001B[0;36mComposite.process_update\u001B[0;34m(self, path, process, states, interval, ports_key)\u001B[0m\n\u001B[1;32m    594\u001B[0m \u001B[38;5;250m\u001B[39m\u001B[38;5;124;03m\"\"\"Start generating a process's update.\u001B[39;00m\n\u001B[1;32m    595\u001B[0m \n\u001B[1;32m    596\u001B[0m \u001B[38;5;124;03mThis function is similar to :py:meth:`_invoke_process` except in\u001B[39;00m\n\u001B[0;32m   (...)\u001B[0m\n\u001B[1;32m    611\u001B[0m \u001B[38;5;124;03m    ``store``.\u001B[39;00m\n\u001B[1;32m    612\u001B[0m \u001B[38;5;124;03m\"\"\"\u001B[39;00m\n\u001B[1;32m    614\u001B[0m states \u001B[38;5;241m=\u001B[39m strip_schema_keys(states)\n\u001B[0;32m--> 616\u001B[0m update \u001B[38;5;241m=\u001B[39m \u001B[43mprocess\u001B[49m\u001B[43m[\u001B[49m\u001B[38;5;124;43m'\u001B[39;49m\u001B[38;5;124;43minstance\u001B[39;49m\u001B[38;5;124;43m'\u001B[39;49m\u001B[43m]\u001B[49m\u001B[38;5;241;43m.\u001B[39;49m\u001B[43minvoke\u001B[49m\u001B[43m(\u001B[49m\u001B[43mstates\u001B[49m\u001B[43m,\u001B[49m\u001B[43m \u001B[49m\u001B[43minterval\u001B[49m\u001B[43m)\u001B[49m\n\u001B[1;32m    618\u001B[0m \u001B[38;5;28;01mdef\u001B[39;00m \u001B[38;5;21mdefer_project\u001B[39m(update, args):\n\u001B[1;32m    619\u001B[0m     schema, state, path \u001B[38;5;241m=\u001B[39m args\n",
      "File \u001B[0;32m~/code/process-bigraph/process_bigraph/composite.py:301\u001B[0m, in \u001B[0;36mProcess.invoke\u001B[0;34m(self, state, interval)\u001B[0m\n\u001B[1;32m    300\u001B[0m \u001B[38;5;28;01mdef\u001B[39;00m \u001B[38;5;21minvoke\u001B[39m(\u001B[38;5;28mself\u001B[39m, state, interval):\n\u001B[0;32m--> 301\u001B[0m     update \u001B[38;5;241m=\u001B[39m \u001B[38;5;28;43mself\u001B[39;49m\u001B[38;5;241;43m.\u001B[39;49m\u001B[43mupdate\u001B[49m\u001B[43m(\u001B[49m\u001B[43mstate\u001B[49m\u001B[43m,\u001B[49m\u001B[43m \u001B[49m\u001B[43minterval\u001B[49m\u001B[43m)\u001B[49m\n\u001B[1;32m    302\u001B[0m     sync \u001B[38;5;241m=\u001B[39m SyncUpdate(update)\n\u001B[1;32m    303\u001B[0m     \u001B[38;5;28;01mreturn\u001B[39;00m sync\n",
      "File \u001B[0;32m~/code/spatio-flux/spatio_flux/processes/dfba.py:80\u001B[0m, in \u001B[0;36mDynamicFBA.update\u001B[0;34m(self, inputs, interval)\u001B[0m\n\u001B[1;32m     78\u001B[0m \u001B[38;5;28;01mfor\u001B[39;00m substrate, reaction_id \u001B[38;5;129;01min\u001B[39;00m \u001B[38;5;28mself\u001B[39m\u001B[38;5;241m.\u001B[39mconfig[\u001B[38;5;124m\"\u001B[39m\u001B[38;5;124msubstrate_update_reactions\u001B[39m\u001B[38;5;124m\"\u001B[39m]\u001B[38;5;241m.\u001B[39mitems():\n\u001B[1;32m     79\u001B[0m     Km, Vmax \u001B[38;5;241m=\u001B[39m \u001B[38;5;28mself\u001B[39m\u001B[38;5;241m.\u001B[39mconfig[\u001B[38;5;124m\"\u001B[39m\u001B[38;5;124mkinetic_params\u001B[39m\u001B[38;5;124m\"\u001B[39m][substrate]\n\u001B[0;32m---> 80\u001B[0m     substrate_concentration \u001B[38;5;241m=\u001B[39m \u001B[43msubstrates_input\u001B[49m\u001B[43m[\u001B[49m\u001B[43msubstrate\u001B[49m\u001B[43m]\u001B[49m\n\u001B[1;32m     81\u001B[0m     uptake_rate \u001B[38;5;241m=\u001B[39m Vmax \u001B[38;5;241m*\u001B[39m substrate_concentration \u001B[38;5;241m/\u001B[39m (Km \u001B[38;5;241m+\u001B[39m substrate_concentration)\n\u001B[1;32m     82\u001B[0m     \u001B[38;5;28mself\u001B[39m\u001B[38;5;241m.\u001B[39mmodel\u001B[38;5;241m.\u001B[39mreactions\u001B[38;5;241m.\u001B[39mget_by_id(reaction_id)\u001B[38;5;241m.\u001B[39mlower_bound \u001B[38;5;241m=\u001B[39m \u001B[38;5;241m-\u001B[39muptake_rate\n",
      "\u001B[0;31mKeyError\u001B[0m: 'glucose'"
     ]
    }
   ],
   "execution_count": 36
  },
  {
   "metadata": {},
   "cell_type": "code",
   "outputs": [],
   "execution_count": null,
   "source": "v.plot_timeseries()",
   "id": "cc668cc073e83bf3"
  }
 ],
 "metadata": {
  "kernelspec": {
   "display_name": "Python 3",
   "language": "python",
   "name": "python3"
  },
  "language_info": {
   "codemirror_mode": {
    "name": "ipython",
    "version": 2
   },
   "file_extension": ".py",
   "mimetype": "text/x-python",
   "name": "python",
   "nbconvert_exporter": "python",
   "pygments_lexer": "ipython2",
   "version": "2.7.6"
  }
 },
 "nbformat": 4,
 "nbformat_minor": 5
}
