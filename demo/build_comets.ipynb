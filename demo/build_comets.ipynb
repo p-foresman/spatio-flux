{
 "cells": [
  {
   "cell_type": "code",
   "id": "initial_id",
   "metadata": {
    "collapsed": true,
    "ExecuteTime": {
     "end_time": "2025-01-29T19:40:55.247141Z",
     "start_time": "2025-01-29T19:40:55.244952Z"
    }
   },
   "source": [
    "from vivarium import Vivarium\n",
    "from spatio_flux import PROCESS_DICT, TYPES_DICT"
   ],
   "outputs": [],
   "execution_count": 44
  },
  {
   "metadata": {
    "ExecuteTime": {
     "end_time": "2025-01-29T19:40:55.268619Z",
     "start_time": "2025-01-29T19:40:55.250573Z"
    }
   },
   "cell_type": "code",
   "source": "v = Vivarium(processes=PROCESS_DICT, types=TYPES_DICT)",
   "id": "66f96b03df1eb3b0",
   "outputs": [],
   "execution_count": 45
  },
  {
   "metadata": {
    "ExecuteTime": {
     "end_time": "2025-01-29T19:40:55.274880Z",
     "start_time": "2025-01-29T19:40:55.273126Z"
    }
   },
   "cell_type": "code",
   "source": [
    "# view the available processes\n",
    "print('PROCESSES:')\n",
    "v.print_processes()"
   ],
   "id": "eeef0775e7e460d4",
   "outputs": [
    {
     "name": "stdout",
     "output_type": "stream",
     "text": [
      "PROCESSES:\n",
      "['MinimalParticle', 'console-emitter', 'ram-emitter', 'DynamicFBA', 'composite', 'Particles', 'DiffusionAdvection']\n"
     ]
    }
   ],
   "execution_count": 46
  },
  {
   "metadata": {
    "ExecuteTime": {
     "end_time": "2025-01-29T19:40:55.285954Z",
     "start_time": "2025-01-29T19:40:55.284289Z"
    }
   },
   "cell_type": "code",
   "source": [
    "# inspect the config schema for the 'increase' process\n",
    "print(\"CONFIG SCHEMA for 'DynamicFBA' process:\")\n",
    "print(v.process_schema('DynamicFBA'))"
   ],
   "id": "8d55399333135291",
   "outputs": [
    {
     "name": "stdout",
     "output_type": "stream",
     "text": [
      "CONFIG SCHEMA for 'DynamicFBA' process:\n",
      "(model_file:string|kinetic_params:map[tuple[float,float]]|substrate_update_reactions:map[string]|biomass_identifier:string|bounds:map[bounds])\n"
     ]
    }
   ],
   "execution_count": 47
  },
  {
   "metadata": {
    "ExecuteTime": {
     "end_time": "2025-01-29T19:40:55.294001Z",
     "start_time": "2025-01-29T19:40:55.292696Z"
    }
   },
   "cell_type": "code",
   "source": [
    "# # inspect the process interface (inputs/outputs) for the 'increase' process\n",
    "# TODO -- this is not working\n",
    "# print(\"INTERFACE SCHEMA for 'DynamicFBA' process:\")\n",
    "# print(v.process_interface('DynamicFBA'))"
   ],
   "id": "8fe794fd18904c89",
   "outputs": [],
   "execution_count": 48
  },
  {
   "metadata": {
    "ExecuteTime": {
     "end_time": "2025-01-29T19:40:55.348152Z",
     "start_time": "2025-01-29T19:40:55.301304Z"
    }
   },
   "cell_type": "code",
   "source": [
    "# add a dynamic FBA process called 'dFBA'\n",
    "v.add_process(name=\"dFBA\",\n",
    "              process_id=\"DynamicFBA\",\n",
    "              config={\n",
    "                \"model_file\": \"textbook\",\n",
    "                \"kinetic_params\": {\n",
    "                    \"glucose\": (0.5, 1),\n",
    "                    \"acetate\": (0.5, 2)},\n",
    "                \"substrate_update_reactions\": {\n",
    "                    \"glucose\": \"EX_glc__D_e\",\n",
    "                    \"acetate\": \"EX_ac_e\"},\n",
    "                \"biomass_identifier\": \"biomass\",\n",
    "                \"bounds\": {\n",
    "                    \"EX_o2_e\": {\"lower\": -2, \"upper\": None},\n",
    "                    \"ATPM\": {\"lower\": 1, \"upper\": 1}}},\n",
    "              )\n"
   ],
   "id": "3a68891bfe45211d",
   "outputs": [],
   "execution_count": 49
  },
  {
   "metadata": {
    "ExecuteTime": {
     "end_time": "2025-01-29T19:40:55.411128Z",
     "start_time": "2025-01-29T19:40:55.350923Z"
    }
   },
   "cell_type": "code",
   "source": "v.diagram(dpi='140')",
   "id": "2d67ed8ddfe5d770",
   "outputs": [
    {
     "data": {
      "image/png": "[encoded data removed]",
      "text/plain": [
       "<IPython.core.display.Image object>"
      ]
     },
     "metadata": {},
     "output_type": "display_data"
    }
   ],
   "execution_count": 50
  },
  {
   "metadata": {
    "ExecuteTime": {
     "end_time": "2025-01-29T19:41:23.438872Z",
     "start_time": "2025-01-29T19:41:23.431277Z"
    }
   },
   "cell_type": "code",
   "source": [
    "mol_ids = [\"glucose\", \"acetate\", \"biomass\"]\n",
    "path=['fields']\n",
    "i = 0\n",
    "j = 0\n",
    "\n",
    "def build_path(mol_id):\n",
    "    base_path = path + [mol_id]\n",
    "    if i is not None:\n",
    "        base_path.append(i)\n",
    "    if j is not None:\n",
    "        base_path.append(j)\n",
    "    return base_path\n",
    "\n",
    "v.connect_process(\n",
    "    process_name=\"dFBA\",\n",
    "    inputs={\n",
    "            \"substrates\": {mol_id: build_path(mol_id) for mol_id in mol_ids}\n",
    "        },\n",
    "    outputs={\n",
    "            \"substrates\": {mol_id: build_path(mol_id) for mol_id in mol_ids}\n",
    "        }\n",
    ")\n",
    "v"
   ],
   "id": "5f68a490bb07c0ae",
   "outputs": [
    {
     "data": {
      "text/plain": [
       "Vivarium( \n",
       "{ 'dFBA': { 'address': 'local:DynamicFBA',\n",
       "            'config': { 'biomass_identifier': 'biomass',\n",
       "                        'bounds': { 'ATPM': {'lower': 1.0, 'upper': 1.0},\n",
       "                                    'EX_o2_e': {'lower': -2.0, 'upper': None}},\n",
       "                        'kinetic_params': { 'acetate': (0.5, 2.0),\n",
       "                                            'glucose': (0.5, 1.0)},\n",
       "                        'model_file': 'textbook',\n",
       "                        'substrate_update_reactions': { 'acetate': 'EX_ac_e',\n",
       "                                                        'glucose': 'EX_glc__D_e'}},\n",
       "            'inputs': { 'substrates': { 'acetate': ['fields', 'acetate', 0, 0],\n",
       "                                        'biomass': ['fields', 'biomass', 0, 0],\n",
       "                                        'glucose': [ 'fields',\n",
       "                                                     'glucose',\n",
       "                                                     0,\n",
       "                                                     0]}},\n",
       "            'instance': <spatio_flux.processes.dfba.DynamicFBA object at 0x1367bb990>,\n",
       "            'interval': 1.0,\n",
       "            'outputs': { 'substrates': { 'acetate': ['fields', 'acetate', 0, 0],\n",
       "                                         'biomass': ['fields', 'biomass', 0, 0],\n",
       "                                         'glucose': [ 'fields',\n",
       "                                                      'glucose',\n",
       "                                                      0,\n",
       "                                                      0]}}},\n",
       "  'fields': { 'acetate': {0: {0: 0.0}},\n",
       "              'biomass': {0: {0: 0.0}},\n",
       "              'glucose': {0: {0: 0.0}}},\n",
       "  'global_time': 0.0})"
      ]
     },
     "execution_count": 52,
     "metadata": {},
     "output_type": "execute_result"
    }
   ],
   "execution_count": 52
  },
  {
   "metadata": {},
   "cell_type": "code",
   "outputs": [],
   "execution_count": null,
   "source": "",
   "id": "b24b8084fd0372cb"
  }
 ],
 "metadata": {
  "kernelspec": {
   "display_name": "Python 3",
   "language": "python",
   "name": "python3"
  },
  "language_info": {
   "codemirror_mode": {
    "name": "ipython",
    "version": 2
   },
   "file_extension": ".py",
   "mimetype": "text/x-python",
   "name": "python",
   "nbconvert_exporter": "python",
   "pygments_lexer": "ipython2",
   "version": "2.7.6"
  }
 },
 "nbformat": 4,
 "nbformat_minor": 5
}
